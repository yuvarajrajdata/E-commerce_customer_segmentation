{
  "cells": [
    {
      "cell_type": "code",
      "execution_count": null,
      "metadata": {
        "colab": {
          "background_save": true
        },
        "id": "x_G2pLyt4TKd"
      },
      "outputs": [],
      "source": [
        "# Importing Necessary Modules\n",
        "import pandas as pd\n",
        "import numpy as np\n",
        "\n",
        "from sklearn.model_selection import train_test_split\n",
        "from sklearn import metrics\n",
        "\n",
        "\n",
        "from sklearn.preprocessing import StandardScaler\n",
        "from sklearn.metrics import roc_auc_score, f1_score, accuracy_score , confusion_matrix , classification_report\n",
        "\n",
        "from sklearn.linear_model import LogisticRegression\n",
        "from sklearn.tree import DecisionTreeClassifier\n",
        "from sklearn.model_selection import cross_val_score\n",
        "from sklearn.neighbors import KNeighborsClassifier\n",
        "from sklearn.ensemble import RandomForestClassifier\n",
        "\n",
        "\n",
        "import seaborn as sns\n",
        "import matplotlib.pyplot as plt\n",
        "\n",
        "import imblearn\n",
        "from imblearn.combine import SMOTEENN\n",
        "\n",
        "import xgboost as xgb\n",
        "from xgboost import XGBClassifier\n",
        "\n",
        "import warnings\n",
        "warnings.filterwarnings(\"ignore\")"
      ]
    },
    {
      "cell_type": "markdown",
      "metadata": {
        "id": "GbGRpQHkDhH_"
      },
      "source": [
        "# This is supervised learning model 'y' is the target variable and classifier is the model :"
      ]
    },
    {
      "cell_type": "code",
      "execution_count": null,
      "metadata": {
        "colab": {
          "background_save": true,
          "base_uri": "https://localhost:8080/",
          "height": 206
        },
        "id": "sMCN_XJL4duE",
        "outputId": "831d7cd2-488b-4bf2-f250-be826797aacc"
      },
      "outputs": [
        {
          "data": {
            "text/html": [
              "\n",
              "  <div id=\"df-1a44f62f-71d3-43d2-8e5c-807a62b19a85\" class=\"colab-df-container\">\n",
              "    <div>\n",
              "<style scoped>\n",
              "    .dataframe tbody tr th:only-of-type {\n",
              "        vertical-align: middle;\n",
              "    }\n",
              "\n",
              "    .dataframe tbody tr th {\n",
              "        vertical-align: top;\n",
              "    }\n",
              "\n",
              "    .dataframe thead th {\n",
              "        text-align: right;\n",
              "    }\n",
              "</style>\n",
              "<table border=\"1\" class=\"dataframe\">\n",
              "  <thead>\n",
              "    <tr style=\"text-align: right;\">\n",
              "      <th></th>\n",
              "      <th>age</th>\n",
              "      <th>job</th>\n",
              "      <th>marital</th>\n",
              "      <th>education_qual</th>\n",
              "      <th>call_type</th>\n",
              "      <th>day</th>\n",
              "      <th>mon</th>\n",
              "      <th>dur</th>\n",
              "      <th>num_calls</th>\n",
              "      <th>prev_outcome</th>\n",
              "      <th>y</th>\n",
              "    </tr>\n",
              "  </thead>\n",
              "  <tbody>\n",
              "    <tr>\n",
              "      <th>0</th>\n",
              "      <td>58</td>\n",
              "      <td>management</td>\n",
              "      <td>married</td>\n",
              "      <td>tertiary</td>\n",
              "      <td>unknown</td>\n",
              "      <td>5.0</td>\n",
              "      <td>may</td>\n",
              "      <td>261.0</td>\n",
              "      <td>1.0</td>\n",
              "      <td>unknown</td>\n",
              "      <td>no</td>\n",
              "    </tr>\n",
              "    <tr>\n",
              "      <th>1</th>\n",
              "      <td>44</td>\n",
              "      <td>technician</td>\n",
              "      <td>single</td>\n",
              "      <td>secondary</td>\n",
              "      <td>unknown</td>\n",
              "      <td>5.0</td>\n",
              "      <td>may</td>\n",
              "      <td>151.0</td>\n",
              "      <td>1.0</td>\n",
              "      <td>unknown</td>\n",
              "      <td>no</td>\n",
              "    </tr>\n",
              "    <tr>\n",
              "      <th>2</th>\n",
              "      <td>33</td>\n",
              "      <td>entrepreneur</td>\n",
              "      <td>married</td>\n",
              "      <td>secondary</td>\n",
              "      <td>unknown</td>\n",
              "      <td>5.0</td>\n",
              "      <td>may</td>\n",
              "      <td>76.0</td>\n",
              "      <td>1.0</td>\n",
              "      <td>unknown</td>\n",
              "      <td>no</td>\n",
              "    </tr>\n",
              "    <tr>\n",
              "      <th>3</th>\n",
              "      <td>47</td>\n",
              "      <td>blue-collar</td>\n",
              "      <td>married</td>\n",
              "      <td>unknown</td>\n",
              "      <td>unknown</td>\n",
              "      <td>5.0</td>\n",
              "      <td>may</td>\n",
              "      <td>92.0</td>\n",
              "      <td>1.0</td>\n",
              "      <td>unknown</td>\n",
              "      <td>no</td>\n",
              "    </tr>\n",
              "    <tr>\n",
              "      <th>4</th>\n",
              "      <td>33</td>\n",
              "      <td>unknown</td>\n",
              "      <td>single</td>\n",
              "      <td>unknown</td>\n",
              "      <td>unknown</td>\n",
              "      <td>5.0</td>\n",
              "      <td>may</td>\n",
              "      <td>198.0</td>\n",
              "      <td>1.0</td>\n",
              "      <td>unknown</td>\n",
              "      <td>no</td>\n",
              "    </tr>\n",
              "  </tbody>\n",
              "</table>\n",
              "</div>\n",
              "    <div class=\"colab-df-buttons\">\n",
              "\n",
              "  <div class=\"colab-df-container\">\n",
              "    <button class=\"colab-df-convert\" onclick=\"convertToInteractive('df-1a44f62f-71d3-43d2-8e5c-807a62b19a85')\"\n",
              "            title=\"Convert this dataframe to an interactive table.\"\n",
              "            style=\"display:none;\">\n",
              "\n",
              "  <svg xmlns=\"http://www.w3.org/2000/svg\" height=\"24px\" viewBox=\"0 -960 960 960\">\n",
              "    <path d=\"M120-120v-720h720v720H120Zm60-500h600v-160H180v160Zm220 220h160v-160H400v160Zm0 220h160v-160H400v160ZM180-400h160v-160H180v160Zm440 0h160v-160H620v160ZM180-180h160v-160H180v160Zm440 0h160v-160H620v160Z\"/>\n",
              "  </svg>\n",
              "    </button>\n",
              "\n",
              "  <style>\n",
              "    .colab-df-container {\n",
              "      display:flex;\n",
              "      gap: 12px;\n",
              "    }\n",
              "\n",
              "    .colab-df-convert {\n",
              "      background-color: #E8F0FE;\n",
              "      border: none;\n",
              "      border-radius: 50%;\n",
              "      cursor: pointer;\n",
              "      display: none;\n",
              "      fill: #1967D2;\n",
              "      height: 32px;\n",
              "      padding: 0 0 0 0;\n",
              "      width: 32px;\n",
              "    }\n",
              "\n",
              "    .colab-df-convert:hover {\n",
              "      background-color: #E2EBFA;\n",
              "      box-shadow: 0px 1px 2px rgba(60, 64, 67, 0.3), 0px 1px 3px 1px rgba(60, 64, 67, 0.15);\n",
              "      fill: #174EA6;\n",
              "    }\n",
              "\n",
              "    .colab-df-buttons div {\n",
              "      margin-bottom: 4px;\n",
              "    }\n",
              "\n",
              "    [theme=dark] .colab-df-convert {\n",
              "      background-color: #3B4455;\n",
              "      fill: #D2E3FC;\n",
              "    }\n",
              "\n",
              "    [theme=dark] .colab-df-convert:hover {\n",
              "      background-color: #434B5C;\n",
              "      box-shadow: 0px 1px 3px 1px rgba(0, 0, 0, 0.15);\n",
              "      filter: drop-shadow(0px 1px 2px rgba(0, 0, 0, 0.3));\n",
              "      fill: #FFFFFF;\n",
              "    }\n",
              "  </style>\n",
              "\n",
              "    <script>\n",
              "      const buttonEl =\n",
              "        document.querySelector('#df-1a44f62f-71d3-43d2-8e5c-807a62b19a85 button.colab-df-convert');\n",
              "      buttonEl.style.display =\n",
              "        google.colab.kernel.accessAllowed ? 'block' : 'none';\n",
              "\n",
              "      async function convertToInteractive(key) {\n",
              "        const element = document.querySelector('#df-1a44f62f-71d3-43d2-8e5c-807a62b19a85');\n",
              "        const dataTable =\n",
              "          await google.colab.kernel.invokeFunction('convertToInteractive',\n",
              "                                                    [key], {});\n",
              "        if (!dataTable) return;\n",
              "\n",
              "        const docLinkHtml = 'Like what you see? Visit the ' +\n",
              "          '<a target=\"_blank\" href=https://colab.research.google.com/notebooks/data_table.ipynb>data table notebook</a>'\n",
              "          + ' to learn more about interactive tables.';\n",
              "        element.innerHTML = '';\n",
              "        dataTable['output_type'] = 'display_data';\n",
              "        await google.colab.output.renderOutput(dataTable, element);\n",
              "        const docLink = document.createElement('div');\n",
              "        docLink.innerHTML = docLinkHtml;\n",
              "        element.appendChild(docLink);\n",
              "      }\n",
              "    </script>\n",
              "  </div>\n",
              "\n",
              "\n",
              "<div id=\"df-09aabba4-3bbd-4ea5-b4a1-3afb5b64a4fd\">\n",
              "  <button class=\"colab-df-quickchart\" onclick=\"quickchart('df-09aabba4-3bbd-4ea5-b4a1-3afb5b64a4fd')\"\n",
              "            title=\"Suggest charts.\"\n",
              "            style=\"display:none;\">\n",
              "\n",
              "<svg xmlns=\"http://www.w3.org/2000/svg\" height=\"24px\"viewBox=\"0 0 24 24\"\n",
              "     width=\"24px\">\n",
              "    <g>\n",
              "        <path d=\"M19 3H5c-1.1 0-2 .9-2 2v14c0 1.1.9 2 2 2h14c1.1 0 2-.9 2-2V5c0-1.1-.9-2-2-2zM9 17H7v-7h2v7zm4 0h-2V7h2v10zm4 0h-2v-4h2v4z\"/>\n",
              "    </g>\n",
              "</svg>\n",
              "  </button>\n",
              "\n",
              "<style>\n",
              "  .colab-df-quickchart {\n",
              "      --bg-color: #E8F0FE;\n",
              "      --fill-color: #1967D2;\n",
              "      --hover-bg-color: #E2EBFA;\n",
              "      --hover-fill-color: #174EA6;\n",
              "      --disabled-fill-color: #AAA;\n",
              "      --disabled-bg-color: #DDD;\n",
              "  }\n",
              "\n",
              "  [theme=dark] .colab-df-quickchart {\n",
              "      --bg-color: #3B4455;\n",
              "      --fill-color: #D2E3FC;\n",
              "      --hover-bg-color: #434B5C;\n",
              "      --hover-fill-color: #FFFFFF;\n",
              "      --disabled-bg-color: #3B4455;\n",
              "      --disabled-fill-color: #666;\n",
              "  }\n",
              "\n",
              "  .colab-df-quickchart {\n",
              "    background-color: var(--bg-color);\n",
              "    border: none;\n",
              "    border-radius: 50%;\n",
              "    cursor: pointer;\n",
              "    display: none;\n",
              "    fill: var(--fill-color);\n",
              "    height: 32px;\n",
              "    padding: 0;\n",
              "    width: 32px;\n",
              "  }\n",
              "\n",
              "  .colab-df-quickchart:hover {\n",
              "    background-color: var(--hover-bg-color);\n",
              "    box-shadow: 0 1px 2px rgba(60, 64, 67, 0.3), 0 1px 3px 1px rgba(60, 64, 67, 0.15);\n",
              "    fill: var(--button-hover-fill-color);\n",
              "  }\n",
              "\n",
              "  .colab-df-quickchart-complete:disabled,\n",
              "  .colab-df-quickchart-complete:disabled:hover {\n",
              "    background-color: var(--disabled-bg-color);\n",
              "    fill: var(--disabled-fill-color);\n",
              "    box-shadow: none;\n",
              "  }\n",
              "\n",
              "  .colab-df-spinner {\n",
              "    border: 2px solid var(--fill-color);\n",
              "    border-color: transparent;\n",
              "    border-bottom-color: var(--fill-color);\n",
              "    animation:\n",
              "      spin 1s steps(1) infinite;\n",
              "  }\n",
              "\n",
              "  @keyframes spin {\n",
              "    0% {\n",
              "      border-color: transparent;\n",
              "      border-bottom-color: var(--fill-color);\n",
              "      border-left-color: var(--fill-color);\n",
              "    }\n",
              "    20% {\n",
              "      border-color: transparent;\n",
              "      border-left-color: var(--fill-color);\n",
              "      border-top-color: var(--fill-color);\n",
              "    }\n",
              "    30% {\n",
              "      border-color: transparent;\n",
              "      border-left-color: var(--fill-color);\n",
              "      border-top-color: var(--fill-color);\n",
              "      border-right-color: var(--fill-color);\n",
              "    }\n",
              "    40% {\n",
              "      border-color: transparent;\n",
              "      border-right-color: var(--fill-color);\n",
              "      border-top-color: var(--fill-color);\n",
              "    }\n",
              "    60% {\n",
              "      border-color: transparent;\n",
              "      border-right-color: var(--fill-color);\n",
              "    }\n",
              "    80% {\n",
              "      border-color: transparent;\n",
              "      border-right-color: var(--fill-color);\n",
              "      border-bottom-color: var(--fill-color);\n",
              "    }\n",
              "    90% {\n",
              "      border-color: transparent;\n",
              "      border-bottom-color: var(--fill-color);\n",
              "    }\n",
              "  }\n",
              "</style>\n",
              "\n",
              "  <script>\n",
              "    async function quickchart(key) {\n",
              "      const quickchartButtonEl =\n",
              "        document.querySelector('#' + key + ' button');\n",
              "      quickchartButtonEl.disabled = true;  // To prevent multiple clicks.\n",
              "      quickchartButtonEl.classList.add('colab-df-spinner');\n",
              "      try {\n",
              "        const charts = await google.colab.kernel.invokeFunction(\n",
              "            'suggestCharts', [key], {});\n",
              "      } catch (error) {\n",
              "        console.error('Error during call to suggestCharts:', error);\n",
              "      }\n",
              "      quickchartButtonEl.classList.remove('colab-df-spinner');\n",
              "      quickchartButtonEl.classList.add('colab-df-quickchart-complete');\n",
              "    }\n",
              "    (() => {\n",
              "      let quickchartButtonEl =\n",
              "        document.querySelector('#df-09aabba4-3bbd-4ea5-b4a1-3afb5b64a4fd button');\n",
              "      quickchartButtonEl.style.display =\n",
              "        google.colab.kernel.accessAllowed ? 'block' : 'none';\n",
              "    })();\n",
              "  </script>\n",
              "</div>\n",
              "    </div>\n",
              "  </div>\n"
            ],
            "text/plain": [
              "   age           job  marital education_qual call_type  day  mon    dur  \\\n",
              "0   58    management  married       tertiary   unknown  5.0  may  261.0   \n",
              "1   44    technician   single      secondary   unknown  5.0  may  151.0   \n",
              "2   33  entrepreneur  married      secondary   unknown  5.0  may   76.0   \n",
              "3   47   blue-collar  married        unknown   unknown  5.0  may   92.0   \n",
              "4   33       unknown   single        unknown   unknown  5.0  may  198.0   \n",
              "\n",
              "   num_calls prev_outcome   y  \n",
              "0        1.0      unknown  no  \n",
              "1        1.0      unknown  no  \n",
              "2        1.0      unknown  no  \n",
              "3        1.0      unknown  no  \n",
              "4        1.0      unknown  no  "
            ]
          },
          "execution_count": 8,
          "metadata": {},
          "output_type": "execute_result"
        }
      ],
      "source": [
        "# This is supervised learning model 'y' is the target variable and classifier is the model :\n",
        "df = pd.read_csv('train.csv')\n",
        "df.head()"
      ]
    },
    {
      "cell_type": "code",
      "execution_count": null,
      "metadata": {
        "colab": {
          "background_save": true,
          "base_uri": "https://localhost:8080/"
        },
        "id": "miokabfu4dxO",
        "outputId": "2b65826d-cd12-4f53-f549-275dfb0846b1"
      },
      "outputs": [
        {
          "data": {
            "text/plain": [
              "(32773, 11)"
            ]
          },
          "execution_count": 9,
          "metadata": {},
          "output_type": "execute_result"
        }
      ],
      "source": [
        "df.shape\n"
      ]
    },
    {
      "cell_type": "code",
      "execution_count": null,
      "metadata": {
        "colab": {
          "background_save": true,
          "base_uri": "https://localhost:8080/"
        },
        "id": "rduOUmqy4dz0",
        "outputId": "7e308d5a-266e-4a94-bf34-ea2b2d848c06"
      },
      "outputs": [
        {
          "name": "stdout",
          "output_type": "stream",
          "text": [
            "<class 'pandas.core.frame.DataFrame'>\n",
            "RangeIndex: 32773 entries, 0 to 32772\n",
            "Data columns (total 11 columns):\n",
            " #   Column          Non-Null Count  Dtype  \n",
            "---  ------          --------------  -----  \n",
            " 0   age             32773 non-null  int64  \n",
            " 1   job             32773 non-null  object \n",
            " 2   marital         32772 non-null  object \n",
            " 3   education_qual  32772 non-null  object \n",
            " 4   call_type       32772 non-null  object \n",
            " 5   day             32772 non-null  float64\n",
            " 6   mon             32772 non-null  object \n",
            " 7   dur             32772 non-null  float64\n",
            " 8   num_calls       32772 non-null  float64\n",
            " 9   prev_outcome    32772 non-null  object \n",
            " 10  y               32772 non-null  object \n",
            "dtypes: float64(3), int64(1), object(7)\n",
            "memory usage: 2.8+ MB\n"
          ]
        }
      ],
      "source": [
        "df.info()"
      ]
    },
    {
      "cell_type": "markdown",
      "metadata": {
        "id": "P8hkz4XWDSho"
      },
      "source": [
        "# Find unique values in the all the columns\n",
        "\n",
        "\n",
        "\n"
      ]
    },
    {
      "cell_type": "code",
      "execution_count": null,
      "metadata": {
        "colab": {
          "background_save": true,
          "base_uri": "https://localhost:8080/"
        },
        "id": "jTcgQ7waDFQm",
        "outputId": "d3657787-ad00-419a-c8ed-29aca4286037"
      },
      "outputs": [
        {
          "name": "stdout",
          "output_type": "stream",
          "text": [
            "age : [58 44 33 47 35 28 42 43 41 29 53 57 51 45 60 56 32 25 40 39 52 46 36 49\n",
            " 59 37 50 54 55 48 24 38 31 30 27 34 23 26 61 22 21 20 66 62 83 75 67 70\n",
            " 65 68 64 69 72 71 19 76 85 63 90 82 73 74 78 80 94 79 77 86]\n",
            "job : ['management' 'technician' 'entrepreneur' 'blue-collar' 'unknown'\n",
            " 'retired' 'admin.' 'services' 'self-employed' 'unemployed' 'housemaid'\n",
            " 'student' 'managem']\n",
            "marital : ['married' 'single' 'divorced' nan]\n",
            "education_qual : ['tertiary' 'secondary' 'unknown' 'primary' nan]\n",
            "call_type : ['unknown' 'cellular' 'telephone' nan]\n",
            "day : [ 5.  6.  7.  8.  9. 12. 13. 14. 15. 16. 19. 20. 21. 23. 26. 27. 28. 29.\n",
            " 30.  2.  3.  4. 11. 17. 18. 24. 25.  1. 10. 22. 31. nan]\n",
            "mon : ['may' 'jun' 'jul' 'aug' 'oct' 'nov' 'dec' 'jan' 'feb' 'mar' 'apr' nan]\n",
            "dur : [ 261.  151.   76. ... 1463. 1095.   nan]\n",
            "num_calls : [ 1.  2.  3.  5.  4.  6.  7.  8.  9. 10. 11. 12. 13. 19. 14. 24. 16. 32.\n",
            " 18. 22. 15. 17. 25. 21. 43. 51. 63. 41. 26. 28. 55. 50. 38. 23. 20. 29.\n",
            " 31. 37. 30. 46. 27. 58. 33. 35. 34. 36. 39. 44. nan]\n",
            "prev_outcome : ['unknown' 'failure' 'other' 'success' nan]\n",
            "y : ['no' 'yes' nan]\n"
          ]
        }
      ],
      "source": [
        "for i in df.columns:\n",
        "  print(i,':',df[i].unique())"
      ]
    },
    {
      "cell_type": "code",
      "execution_count": null,
      "metadata": {
        "colab": {
          "background_save": true,
          "base_uri": "https://localhost:8080/"
        },
        "id": "173fw0CDDtvD",
        "outputId": "85474cbb-b02d-418e-9abd-b7eb481dc3e9"
      },
      "outputs": [
        {
          "data": {
            "text/plain": [
              "6"
            ]
          },
          "execution_count": 12,
          "metadata": {},
          "output_type": "execute_result"
        }
      ],
      "source": [
        "# to find duplicates :\n",
        "df.duplicated().sum()"
      ]
    },
    {
      "cell_type": "code",
      "execution_count": null,
      "metadata": {
        "colab": {
          "background_save": true,
          "base_uri": "https://localhost:8080/",
          "height": 237
        },
        "id": "14IwtFrRBHIw",
        "outputId": "a2dee066-4d28-49b1-e0fd-6b0b55b11711"
      },
      "outputs": [
        {
          "data": {
            "text/html": [
              "\n",
              "  <div id=\"df-814c254a-9fb2-47df-adbc-09dce880dbd3\" class=\"colab-df-container\">\n",
              "    <div>\n",
              "<style scoped>\n",
              "    .dataframe tbody tr th:only-of-type {\n",
              "        vertical-align: middle;\n",
              "    }\n",
              "\n",
              "    .dataframe tbody tr th {\n",
              "        vertical-align: top;\n",
              "    }\n",
              "\n",
              "    .dataframe thead th {\n",
              "        text-align: right;\n",
              "    }\n",
              "</style>\n",
              "<table border=\"1\" class=\"dataframe\">\n",
              "  <thead>\n",
              "    <tr style=\"text-align: right;\">\n",
              "      <th></th>\n",
              "      <th>age</th>\n",
              "      <th>job</th>\n",
              "      <th>marital</th>\n",
              "      <th>education_qual</th>\n",
              "      <th>call_type</th>\n",
              "      <th>day</th>\n",
              "      <th>mon</th>\n",
              "      <th>dur</th>\n",
              "      <th>num_calls</th>\n",
              "      <th>prev_outcome</th>\n",
              "      <th>y</th>\n",
              "    </tr>\n",
              "  </thead>\n",
              "  <tbody>\n",
              "    <tr>\n",
              "      <th>6893</th>\n",
              "      <td>34</td>\n",
              "      <td>services</td>\n",
              "      <td>married</td>\n",
              "      <td>secondary</td>\n",
              "      <td>unknown</td>\n",
              "      <td>28.0</td>\n",
              "      <td>may</td>\n",
              "      <td>124.0</td>\n",
              "      <td>1.0</td>\n",
              "      <td>unknown</td>\n",
              "      <td>no</td>\n",
              "    </tr>\n",
              "    <tr>\n",
              "      <th>8138</th>\n",
              "      <td>29</td>\n",
              "      <td>admin.</td>\n",
              "      <td>single</td>\n",
              "      <td>secondary</td>\n",
              "      <td>unknown</td>\n",
              "      <td>2.0</td>\n",
              "      <td>jun</td>\n",
              "      <td>121.0</td>\n",
              "      <td>4.0</td>\n",
              "      <td>unknown</td>\n",
              "      <td>no</td>\n",
              "    </tr>\n",
              "    <tr>\n",
              "      <th>11630</th>\n",
              "      <td>39</td>\n",
              "      <td>blue-collar</td>\n",
              "      <td>married</td>\n",
              "      <td>primary</td>\n",
              "      <td>unknown</td>\n",
              "      <td>19.0</td>\n",
              "      <td>jun</td>\n",
              "      <td>112.0</td>\n",
              "      <td>4.0</td>\n",
              "      <td>unknown</td>\n",
              "      <td>no</td>\n",
              "    </tr>\n",
              "    <tr>\n",
              "      <th>13400</th>\n",
              "      <td>36</td>\n",
              "      <td>blue-collar</td>\n",
              "      <td>married</td>\n",
              "      <td>secondary</td>\n",
              "      <td>cellular</td>\n",
              "      <td>9.0</td>\n",
              "      <td>jul</td>\n",
              "      <td>183.0</td>\n",
              "      <td>1.0</td>\n",
              "      <td>unknown</td>\n",
              "      <td>no</td>\n",
              "    </tr>\n",
              "    <tr>\n",
              "      <th>19826</th>\n",
              "      <td>36</td>\n",
              "      <td>management</td>\n",
              "      <td>married</td>\n",
              "      <td>tertiary</td>\n",
              "      <td>cellular</td>\n",
              "      <td>8.0</td>\n",
              "      <td>aug</td>\n",
              "      <td>75.0</td>\n",
              "      <td>2.0</td>\n",
              "      <td>unknown</td>\n",
              "      <td>no</td>\n",
              "    </tr>\n",
              "    <tr>\n",
              "      <th>19854</th>\n",
              "      <td>32</td>\n",
              "      <td>technician</td>\n",
              "      <td>single</td>\n",
              "      <td>tertiary</td>\n",
              "      <td>cellular</td>\n",
              "      <td>8.0</td>\n",
              "      <td>aug</td>\n",
              "      <td>31.0</td>\n",
              "      <td>2.0</td>\n",
              "      <td>unknown</td>\n",
              "      <td>no</td>\n",
              "    </tr>\n",
              "  </tbody>\n",
              "</table>\n",
              "</div>\n",
              "    <div class=\"colab-df-buttons\">\n",
              "\n",
              "  <div class=\"colab-df-container\">\n",
              "    <button class=\"colab-df-convert\" onclick=\"convertToInteractive('df-814c254a-9fb2-47df-adbc-09dce880dbd3')\"\n",
              "            title=\"Convert this dataframe to an interactive table.\"\n",
              "            style=\"display:none;\">\n",
              "\n",
              "  <svg xmlns=\"http://www.w3.org/2000/svg\" height=\"24px\" viewBox=\"0 -960 960 960\">\n",
              "    <path d=\"M120-120v-720h720v720H120Zm60-500h600v-160H180v160Zm220 220h160v-160H400v160Zm0 220h160v-160H400v160ZM180-400h160v-160H180v160Zm440 0h160v-160H620v160ZM180-180h160v-160H180v160Zm440 0h160v-160H620v160Z\"/>\n",
              "  </svg>\n",
              "    </button>\n",
              "\n",
              "  <style>\n",
              "    .colab-df-container {\n",
              "      display:flex;\n",
              "      gap: 12px;\n",
              "    }\n",
              "\n",
              "    .colab-df-convert {\n",
              "      background-color: #E8F0FE;\n",
              "      border: none;\n",
              "      border-radius: 50%;\n",
              "      cursor: pointer;\n",
              "      display: none;\n",
              "      fill: #1967D2;\n",
              "      height: 32px;\n",
              "      padding: 0 0 0 0;\n",
              "      width: 32px;\n",
              "    }\n",
              "\n",
              "    .colab-df-convert:hover {\n",
              "      background-color: #E2EBFA;\n",
              "      box-shadow: 0px 1px 2px rgba(60, 64, 67, 0.3), 0px 1px 3px 1px rgba(60, 64, 67, 0.15);\n",
              "      fill: #174EA6;\n",
              "    }\n",
              "\n",
              "    .colab-df-buttons div {\n",
              "      margin-bottom: 4px;\n",
              "    }\n",
              "\n",
              "    [theme=dark] .colab-df-convert {\n",
              "      background-color: #3B4455;\n",
              "      fill: #D2E3FC;\n",
              "    }\n",
              "\n",
              "    [theme=dark] .colab-df-convert:hover {\n",
              "      background-color: #434B5C;\n",
              "      box-shadow: 0px 1px 3px 1px rgba(0, 0, 0, 0.15);\n",
              "      filter: drop-shadow(0px 1px 2px rgba(0, 0, 0, 0.3));\n",
              "      fill: #FFFFFF;\n",
              "    }\n",
              "  </style>\n",
              "\n",
              "    <script>\n",
              "      const buttonEl =\n",
              "        document.querySelector('#df-814c254a-9fb2-47df-adbc-09dce880dbd3 button.colab-df-convert');\n",
              "      buttonEl.style.display =\n",
              "        google.colab.kernel.accessAllowed ? 'block' : 'none';\n",
              "\n",
              "      async function convertToInteractive(key) {\n",
              "        const element = document.querySelector('#df-814c254a-9fb2-47df-adbc-09dce880dbd3');\n",
              "        const dataTable =\n",
              "          await google.colab.kernel.invokeFunction('convertToInteractive',\n",
              "                                                    [key], {});\n",
              "        if (!dataTable) return;\n",
              "\n",
              "        const docLinkHtml = 'Like what you see? Visit the ' +\n",
              "          '<a target=\"_blank\" href=https://colab.research.google.com/notebooks/data_table.ipynb>data table notebook</a>'\n",
              "          + ' to learn more about interactive tables.';\n",
              "        element.innerHTML = '';\n",
              "        dataTable['output_type'] = 'display_data';\n",
              "        await google.colab.output.renderOutput(dataTable, element);\n",
              "        const docLink = document.createElement('div');\n",
              "        docLink.innerHTML = docLinkHtml;\n",
              "        element.appendChild(docLink);\n",
              "      }\n",
              "    </script>\n",
              "  </div>\n",
              "\n",
              "\n",
              "<div id=\"df-426a0a46-7be8-43f2-bbfe-5922efbf5d4e\">\n",
              "  <button class=\"colab-df-quickchart\" onclick=\"quickchart('df-426a0a46-7be8-43f2-bbfe-5922efbf5d4e')\"\n",
              "            title=\"Suggest charts.\"\n",
              "            style=\"display:none;\">\n",
              "\n",
              "<svg xmlns=\"http://www.w3.org/2000/svg\" height=\"24px\"viewBox=\"0 0 24 24\"\n",
              "     width=\"24px\">\n",
              "    <g>\n",
              "        <path d=\"M19 3H5c-1.1 0-2 .9-2 2v14c0 1.1.9 2 2 2h14c1.1 0 2-.9 2-2V5c0-1.1-.9-2-2-2zM9 17H7v-7h2v7zm4 0h-2V7h2v10zm4 0h-2v-4h2v4z\"/>\n",
              "    </g>\n",
              "</svg>\n",
              "  </button>\n",
              "\n",
              "<style>\n",
              "  .colab-df-quickchart {\n",
              "      --bg-color: #E8F0FE;\n",
              "      --fill-color: #1967D2;\n",
              "      --hover-bg-color: #E2EBFA;\n",
              "      --hover-fill-color: #174EA6;\n",
              "      --disabled-fill-color: #AAA;\n",
              "      --disabled-bg-color: #DDD;\n",
              "  }\n",
              "\n",
              "  [theme=dark] .colab-df-quickchart {\n",
              "      --bg-color: #3B4455;\n",
              "      --fill-color: #D2E3FC;\n",
              "      --hover-bg-color: #434B5C;\n",
              "      --hover-fill-color: #FFFFFF;\n",
              "      --disabled-bg-color: #3B4455;\n",
              "      --disabled-fill-color: #666;\n",
              "  }\n",
              "\n",
              "  .colab-df-quickchart {\n",
              "    background-color: var(--bg-color);\n",
              "    border: none;\n",
              "    border-radius: 50%;\n",
              "    cursor: pointer;\n",
              "    display: none;\n",
              "    fill: var(--fill-color);\n",
              "    height: 32px;\n",
              "    padding: 0;\n",
              "    width: 32px;\n",
              "  }\n",
              "\n",
              "  .colab-df-quickchart:hover {\n",
              "    background-color: var(--hover-bg-color);\n",
              "    box-shadow: 0 1px 2px rgba(60, 64, 67, 0.3), 0 1px 3px 1px rgba(60, 64, 67, 0.15);\n",
              "    fill: var(--button-hover-fill-color);\n",
              "  }\n",
              "\n",
              "  .colab-df-quickchart-complete:disabled,\n",
              "  .colab-df-quickchart-complete:disabled:hover {\n",
              "    background-color: var(--disabled-bg-color);\n",
              "    fill: var(--disabled-fill-color);\n",
              "    box-shadow: none;\n",
              "  }\n",
              "\n",
              "  .colab-df-spinner {\n",
              "    border: 2px solid var(--fill-color);\n",
              "    border-color: transparent;\n",
              "    border-bottom-color: var(--fill-color);\n",
              "    animation:\n",
              "      spin 1s steps(1) infinite;\n",
              "  }\n",
              "\n",
              "  @keyframes spin {\n",
              "    0% {\n",
              "      border-color: transparent;\n",
              "      border-bottom-color: var(--fill-color);\n",
              "      border-left-color: var(--fill-color);\n",
              "    }\n",
              "    20% {\n",
              "      border-color: transparent;\n",
              "      border-left-color: var(--fill-color);\n",
              "      border-top-color: var(--fill-color);\n",
              "    }\n",
              "    30% {\n",
              "      border-color: transparent;\n",
              "      border-left-color: var(--fill-color);\n",
              "      border-top-color: var(--fill-color);\n",
              "      border-right-color: var(--fill-color);\n",
              "    }\n",
              "    40% {\n",
              "      border-color: transparent;\n",
              "      border-right-color: var(--fill-color);\n",
              "      border-top-color: var(--fill-color);\n",
              "    }\n",
              "    60% {\n",
              "      border-color: transparent;\n",
              "      border-right-color: var(--fill-color);\n",
              "    }\n",
              "    80% {\n",
              "      border-color: transparent;\n",
              "      border-right-color: var(--fill-color);\n",
              "      border-bottom-color: var(--fill-color);\n",
              "    }\n",
              "    90% {\n",
              "      border-color: transparent;\n",
              "      border-bottom-color: var(--fill-color);\n",
              "    }\n",
              "  }\n",
              "</style>\n",
              "\n",
              "  <script>\n",
              "    async function quickchart(key) {\n",
              "      const quickchartButtonEl =\n",
              "        document.querySelector('#' + key + ' button');\n",
              "      quickchartButtonEl.disabled = true;  // To prevent multiple clicks.\n",
              "      quickchartButtonEl.classList.add('colab-df-spinner');\n",
              "      try {\n",
              "        const charts = await google.colab.kernel.invokeFunction(\n",
              "            'suggestCharts', [key], {});\n",
              "      } catch (error) {\n",
              "        console.error('Error during call to suggestCharts:', error);\n",
              "      }\n",
              "      quickchartButtonEl.classList.remove('colab-df-spinner');\n",
              "      quickchartButtonEl.classList.add('colab-df-quickchart-complete');\n",
              "    }\n",
              "    (() => {\n",
              "      let quickchartButtonEl =\n",
              "        document.querySelector('#df-426a0a46-7be8-43f2-bbfe-5922efbf5d4e button');\n",
              "      quickchartButtonEl.style.display =\n",
              "        google.colab.kernel.accessAllowed ? 'block' : 'none';\n",
              "    })();\n",
              "  </script>\n",
              "</div>\n",
              "    </div>\n",
              "  </div>\n"
            ],
            "text/plain": [
              "       age          job  marital education_qual call_type   day  mon    dur  \\\n",
              "6893    34     services  married      secondary   unknown  28.0  may  124.0   \n",
              "8138    29       admin.   single      secondary   unknown   2.0  jun  121.0   \n",
              "11630   39  blue-collar  married        primary   unknown  19.0  jun  112.0   \n",
              "13400   36  blue-collar  married      secondary  cellular   9.0  jul  183.0   \n",
              "19826   36   management  married       tertiary  cellular   8.0  aug   75.0   \n",
              "19854   32   technician   single       tertiary  cellular   8.0  aug   31.0   \n",
              "\n",
              "       num_calls prev_outcome   y  \n",
              "6893         1.0      unknown  no  \n",
              "8138         4.0      unknown  no  \n",
              "11630        4.0      unknown  no  \n",
              "13400        1.0      unknown  no  \n",
              "19826        2.0      unknown  no  \n",
              "19854        2.0      unknown  no  "
            ]
          },
          "execution_count": 13,
          "metadata": {},
          "output_type": "execute_result"
        }
      ],
      "source": [
        "# to find duplicates row and print:\n",
        "df[df.duplicated()]"
      ]
    },
    {
      "cell_type": "code",
      "execution_count": null,
      "metadata": {
        "colab": {
          "background_save": true,
          "base_uri": "https://localhost:8080/"
        },
        "id": "0wx_ETPnBQOs",
        "outputId": "48fe061f-db05-4f0e-ce92-204d277a92a2"
      },
      "outputs": [
        {
          "data": {
            "text/plain": [
              "(32767, 11)"
            ]
          },
          "execution_count": 14,
          "metadata": {},
          "output_type": "execute_result"
        }
      ],
      "source": [
        "# drop the duplicates :\n",
        "df = df.drop_duplicates()\n",
        "df.shape"
      ]
    },
    {
      "cell_type": "code",
      "execution_count": null,
      "metadata": {
        "colab": {
          "background_save": true,
          "base_uri": "https://localhost:8080/"
        },
        "id": "yuEbrQrZFzrT",
        "outputId": "aece199c-5977-40dd-d344-dab027dd5e05"
      },
      "outputs": [
        {
          "data": {
            "text/plain": [
              "0    blue-collar\n",
              "Name: job, dtype: object"
            ]
          },
          "execution_count": 15,
          "metadata": {},
          "output_type": "execute_result"
        }
      ],
      "source": [
        "modes = df['job'].mode()\n",
        "modes"
      ]
    },
    {
      "cell_type": "code",
      "execution_count": null,
      "metadata": {
        "colab": {
          "background_save": true
        },
        "id": "oWz3U838CKvD"
      },
      "outputs": [],
      "source": [
        " # replace 'unknown' from 'job' column with 'mode' :\n",
        "df['job'].replace('unknown',df['job'].mode()[0],inplace=True)"
      ]
    },
    {
      "cell_type": "code",
      "execution_count": null,
      "metadata": {
        "colab": {
          "background_save": true,
          "base_uri": "https://localhost:8080/"
        },
        "id": "44sIS-ROFeyJ",
        "outputId": "975fc88e-95d4-4227-a2a2-fe77407384b3"
      },
      "outputs": [
        {
          "data": {
            "text/plain": [
              "blue-collar      7513\n",
              "management       6891\n",
              "technician       5842\n",
              "admin.           3516\n",
              "services         3077\n",
              "retired          1267\n",
              "self-employed    1194\n",
              "entrepreneur     1189\n",
              "housemaid         987\n",
              "unemployed        972\n",
              "student           318\n",
              "managem             1\n",
              "Name: job, dtype: int64"
            ]
          },
          "execution_count": 17,
          "metadata": {},
          "output_type": "execute_result"
        }
      ],
      "source": [
        "# check the count of 'job' :\n",
        "df['job'].value_counts()"
      ]
    },
    {
      "cell_type": "code",
      "execution_count": null,
      "metadata": {
        "colab": {
          "background_save": true,
          "base_uri": "https://localhost:8080/"
        },
        "id": "xfxg7bfdHqZq",
        "outputId": "755a1fcb-6781-4816-ff6d-7115a0292b37"
      },
      "outputs": [
        {
          "data": {
            "text/plain": [
              "secondary    16943\n",
              "tertiary      9359\n",
              "primary       5159\n",
              "unknown       1305\n",
              "Name: education_qual, dtype: int64"
            ]
          },
          "execution_count": 18,
          "metadata": {},
          "output_type": "execute_result"
        }
      ],
      "source": [
        "# check the count of 'education_qual' :\n",
        "df['education_qual'].value_counts()"
      ]
    },
    {
      "cell_type": "code",
      "execution_count": null,
      "metadata": {
        "colab": {
          "background_save": true
        },
        "id": "4Gf9o7fnHqWw"
      },
      "outputs": [],
      "source": [
        "# replace 'unknown' from 'education_qual' column with 'mode' :\n",
        "df['education_qual'].replace('unknown',df['education_qual'].mode()[0],inplace=True)"
      ]
    },
    {
      "cell_type": "code",
      "execution_count": null,
      "metadata": {
        "colab": {
          "background_save": true,
          "base_uri": "https://localhost:8080/"
        },
        "id": "KQPSN1lMHqT1",
        "outputId": "838777fb-b978-4c0b-dc36-97f5619a6977"
      },
      "outputs": [
        {
          "data": {
            "text/plain": [
              "secondary    18248\n",
              "tertiary      9359\n",
              "primary       5159\n",
              "Name: education_qual, dtype: int64"
            ]
          },
          "execution_count": 20,
          "metadata": {},
          "output_type": "execute_result"
        }
      ],
      "source": [
        "# check the count of 'education_qual' :\n",
        "df['education_qual'].value_counts()"
      ]
    },
    {
      "cell_type": "code",
      "execution_count": null,
      "metadata": {
        "colab": {
          "background_save": true,
          "base_uri": "https://localhost:8080/"
        },
        "id": "qWe1Iu-eHqRK",
        "outputId": "e154c3cc-b7b9-4c62-ec04-a6e32df26e04"
      },
      "outputs": [
        {
          "data": {
            "text/plain": [
              "cellular     18236\n",
              "unknown      12762\n",
              "telephone     1768\n",
              "Name: call_type, dtype: int64"
            ]
          },
          "execution_count": 21,
          "metadata": {},
          "output_type": "execute_result"
        }
      ],
      "source": [
        "# check the count of 'call_type' :\n",
        "# Unknown value is large so it is defined as a category\n",
        "df['call_type'].value_counts()"
      ]
    },
    {
      "cell_type": "code",
      "execution_count": null,
      "metadata": {
        "colab": {
          "background_save": true,
          "base_uri": "https://localhost:8080/"
        },
        "id": "dT6ElDthHAg-",
        "outputId": "7d5e40fa-faac-46f2-ecef-8d106ee64460"
      },
      "outputs": [
        {
          "data": {
            "text/plain": [
              "unknown    30275\n",
              "failure     1768\n",
              "other        629\n",
              "success       94\n",
              "Name: prev_outcome, dtype: int64"
            ]
          },
          "execution_count": 22,
          "metadata": {},
          "output_type": "execute_result"
        }
      ],
      "source": [
        "# Unknown value is large so it is defined as a category\n",
        "df['prev_outcome'].value_counts()"
      ]
    },
    {
      "cell_type": "code",
      "execution_count": null,
      "metadata": {
        "colab": {
          "background_save": true,
          "base_uri": "https://localhost:8080/",
          "height": 206
        },
        "id": "rkzGReu5GJDY",
        "outputId": "c90fe3f4-381d-4a33-a357-49e51a9a2399"
      },
      "outputs": [
        {
          "data": {
            "text/html": [
              "\n",
              "  <div id=\"df-b6512a5a-51d6-4c2c-82eb-1f46bacc262e\" class=\"colab-df-container\">\n",
              "    <div>\n",
              "<style scoped>\n",
              "    .dataframe tbody tr th:only-of-type {\n",
              "        vertical-align: middle;\n",
              "    }\n",
              "\n",
              "    .dataframe tbody tr th {\n",
              "        vertical-align: top;\n",
              "    }\n",
              "\n",
              "    .dataframe thead th {\n",
              "        text-align: right;\n",
              "    }\n",
              "</style>\n",
              "<table border=\"1\" class=\"dataframe\">\n",
              "  <thead>\n",
              "    <tr style=\"text-align: right;\">\n",
              "      <th></th>\n",
              "      <th>age</th>\n",
              "      <th>job</th>\n",
              "      <th>marital</th>\n",
              "      <th>education_qual</th>\n",
              "      <th>call_type</th>\n",
              "      <th>day</th>\n",
              "      <th>mon</th>\n",
              "      <th>dur</th>\n",
              "      <th>num_calls</th>\n",
              "      <th>prev_outcome</th>\n",
              "      <th>y</th>\n",
              "    </tr>\n",
              "  </thead>\n",
              "  <tbody>\n",
              "    <tr>\n",
              "      <th>0</th>\n",
              "      <td>58</td>\n",
              "      <td>management</td>\n",
              "      <td>married</td>\n",
              "      <td>tertiary</td>\n",
              "      <td>unknown</td>\n",
              "      <td>5.0</td>\n",
              "      <td>may</td>\n",
              "      <td>261.0</td>\n",
              "      <td>1.0</td>\n",
              "      <td>unknown</td>\n",
              "      <td>no</td>\n",
              "    </tr>\n",
              "    <tr>\n",
              "      <th>1</th>\n",
              "      <td>44</td>\n",
              "      <td>technician</td>\n",
              "      <td>single</td>\n",
              "      <td>secondary</td>\n",
              "      <td>unknown</td>\n",
              "      <td>5.0</td>\n",
              "      <td>may</td>\n",
              "      <td>151.0</td>\n",
              "      <td>1.0</td>\n",
              "      <td>unknown</td>\n",
              "      <td>no</td>\n",
              "    </tr>\n",
              "    <tr>\n",
              "      <th>2</th>\n",
              "      <td>33</td>\n",
              "      <td>entrepreneur</td>\n",
              "      <td>married</td>\n",
              "      <td>secondary</td>\n",
              "      <td>unknown</td>\n",
              "      <td>5.0</td>\n",
              "      <td>may</td>\n",
              "      <td>76.0</td>\n",
              "      <td>1.0</td>\n",
              "      <td>unknown</td>\n",
              "      <td>no</td>\n",
              "    </tr>\n",
              "    <tr>\n",
              "      <th>3</th>\n",
              "      <td>47</td>\n",
              "      <td>blue-collar</td>\n",
              "      <td>married</td>\n",
              "      <td>secondary</td>\n",
              "      <td>unknown</td>\n",
              "      <td>5.0</td>\n",
              "      <td>may</td>\n",
              "      <td>92.0</td>\n",
              "      <td>1.0</td>\n",
              "      <td>unknown</td>\n",
              "      <td>no</td>\n",
              "    </tr>\n",
              "    <tr>\n",
              "      <th>4</th>\n",
              "      <td>33</td>\n",
              "      <td>blue-collar</td>\n",
              "      <td>single</td>\n",
              "      <td>secondary</td>\n",
              "      <td>unknown</td>\n",
              "      <td>5.0</td>\n",
              "      <td>may</td>\n",
              "      <td>198.0</td>\n",
              "      <td>1.0</td>\n",
              "      <td>unknown</td>\n",
              "      <td>no</td>\n",
              "    </tr>\n",
              "  </tbody>\n",
              "</table>\n",
              "</div>\n",
              "    <div class=\"colab-df-buttons\">\n",
              "\n",
              "  <div class=\"colab-df-container\">\n",
              "    <button class=\"colab-df-convert\" onclick=\"convertToInteractive('df-b6512a5a-51d6-4c2c-82eb-1f46bacc262e')\"\n",
              "            title=\"Convert this dataframe to an interactive table.\"\n",
              "            style=\"display:none;\">\n",
              "\n",
              "  <svg xmlns=\"http://www.w3.org/2000/svg\" height=\"24px\" viewBox=\"0 -960 960 960\">\n",
              "    <path d=\"M120-120v-720h720v720H120Zm60-500h600v-160H180v160Zm220 220h160v-160H400v160Zm0 220h160v-160H400v160ZM180-400h160v-160H180v160Zm440 0h160v-160H620v160ZM180-180h160v-160H180v160Zm440 0h160v-160H620v160Z\"/>\n",
              "  </svg>\n",
              "    </button>\n",
              "\n",
              "  <style>\n",
              "    .colab-df-container {\n",
              "      display:flex;\n",
              "      gap: 12px;\n",
              "    }\n",
              "\n",
              "    .colab-df-convert {\n",
              "      background-color: #E8F0FE;\n",
              "      border: none;\n",
              "      border-radius: 50%;\n",
              "      cursor: pointer;\n",
              "      display: none;\n",
              "      fill: #1967D2;\n",
              "      height: 32px;\n",
              "      padding: 0 0 0 0;\n",
              "      width: 32px;\n",
              "    }\n",
              "\n",
              "    .colab-df-convert:hover {\n",
              "      background-color: #E2EBFA;\n",
              "      box-shadow: 0px 1px 2px rgba(60, 64, 67, 0.3), 0px 1px 3px 1px rgba(60, 64, 67, 0.15);\n",
              "      fill: #174EA6;\n",
              "    }\n",
              "\n",
              "    .colab-df-buttons div {\n",
              "      margin-bottom: 4px;\n",
              "    }\n",
              "\n",
              "    [theme=dark] .colab-df-convert {\n",
              "      background-color: #3B4455;\n",
              "      fill: #D2E3FC;\n",
              "    }\n",
              "\n",
              "    [theme=dark] .colab-df-convert:hover {\n",
              "      background-color: #434B5C;\n",
              "      box-shadow: 0px 1px 3px 1px rgba(0, 0, 0, 0.15);\n",
              "      filter: drop-shadow(0px 1px 2px rgba(0, 0, 0, 0.3));\n",
              "      fill: #FFFFFF;\n",
              "    }\n",
              "  </style>\n",
              "\n",
              "    <script>\n",
              "      const buttonEl =\n",
              "        document.querySelector('#df-b6512a5a-51d6-4c2c-82eb-1f46bacc262e button.colab-df-convert');\n",
              "      buttonEl.style.display =\n",
              "        google.colab.kernel.accessAllowed ? 'block' : 'none';\n",
              "\n",
              "      async function convertToInteractive(key) {\n",
              "        const element = document.querySelector('#df-b6512a5a-51d6-4c2c-82eb-1f46bacc262e');\n",
              "        const dataTable =\n",
              "          await google.colab.kernel.invokeFunction('convertToInteractive',\n",
              "                                                    [key], {});\n",
              "        if (!dataTable) return;\n",
              "\n",
              "        const docLinkHtml = 'Like what you see? Visit the ' +\n",
              "          '<a target=\"_blank\" href=https://colab.research.google.com/notebooks/data_table.ipynb>data table notebook</a>'\n",
              "          + ' to learn more about interactive tables.';\n",
              "        element.innerHTML = '';\n",
              "        dataTable['output_type'] = 'display_data';\n",
              "        await google.colab.output.renderOutput(dataTable, element);\n",
              "        const docLink = document.createElement('div');\n",
              "        docLink.innerHTML = docLinkHtml;\n",
              "        element.appendChild(docLink);\n",
              "      }\n",
              "    </script>\n",
              "  </div>\n",
              "\n",
              "\n",
              "<div id=\"df-ae356a66-c272-4bf9-98b9-0c8390023299\">\n",
              "  <button class=\"colab-df-quickchart\" onclick=\"quickchart('df-ae356a66-c272-4bf9-98b9-0c8390023299')\"\n",
              "            title=\"Suggest charts.\"\n",
              "            style=\"display:none;\">\n",
              "\n",
              "<svg xmlns=\"http://www.w3.org/2000/svg\" height=\"24px\"viewBox=\"0 0 24 24\"\n",
              "     width=\"24px\">\n",
              "    <g>\n",
              "        <path d=\"M19 3H5c-1.1 0-2 .9-2 2v14c0 1.1.9 2 2 2h14c1.1 0 2-.9 2-2V5c0-1.1-.9-2-2-2zM9 17H7v-7h2v7zm4 0h-2V7h2v10zm4 0h-2v-4h2v4z\"/>\n",
              "    </g>\n",
              "</svg>\n",
              "  </button>\n",
              "\n",
              "<style>\n",
              "  .colab-df-quickchart {\n",
              "      --bg-color: #E8F0FE;\n",
              "      --fill-color: #1967D2;\n",
              "      --hover-bg-color: #E2EBFA;\n",
              "      --hover-fill-color: #174EA6;\n",
              "      --disabled-fill-color: #AAA;\n",
              "      --disabled-bg-color: #DDD;\n",
              "  }\n",
              "\n",
              "  [theme=dark] .colab-df-quickchart {\n",
              "      --bg-color: #3B4455;\n",
              "      --fill-color: #D2E3FC;\n",
              "      --hover-bg-color: #434B5C;\n",
              "      --hover-fill-color: #FFFFFF;\n",
              "      --disabled-bg-color: #3B4455;\n",
              "      --disabled-fill-color: #666;\n",
              "  }\n",
              "\n",
              "  .colab-df-quickchart {\n",
              "    background-color: var(--bg-color);\n",
              "    border: none;\n",
              "    border-radius: 50%;\n",
              "    cursor: pointer;\n",
              "    display: none;\n",
              "    fill: var(--fill-color);\n",
              "    height: 32px;\n",
              "    padding: 0;\n",
              "    width: 32px;\n",
              "  }\n",
              "\n",
              "  .colab-df-quickchart:hover {\n",
              "    background-color: var(--hover-bg-color);\n",
              "    box-shadow: 0 1px 2px rgba(60, 64, 67, 0.3), 0 1px 3px 1px rgba(60, 64, 67, 0.15);\n",
              "    fill: var(--button-hover-fill-color);\n",
              "  }\n",
              "\n",
              "  .colab-df-quickchart-complete:disabled,\n",
              "  .colab-df-quickchart-complete:disabled:hover {\n",
              "    background-color: var(--disabled-bg-color);\n",
              "    fill: var(--disabled-fill-color);\n",
              "    box-shadow: none;\n",
              "  }\n",
              "\n",
              "  .colab-df-spinner {\n",
              "    border: 2px solid var(--fill-color);\n",
              "    border-color: transparent;\n",
              "    border-bottom-color: var(--fill-color);\n",
              "    animation:\n",
              "      spin 1s steps(1) infinite;\n",
              "  }\n",
              "\n",
              "  @keyframes spin {\n",
              "    0% {\n",
              "      border-color: transparent;\n",
              "      border-bottom-color: var(--fill-color);\n",
              "      border-left-color: var(--fill-color);\n",
              "    }\n",
              "    20% {\n",
              "      border-color: transparent;\n",
              "      border-left-color: var(--fill-color);\n",
              "      border-top-color: var(--fill-color);\n",
              "    }\n",
              "    30% {\n",
              "      border-color: transparent;\n",
              "      border-left-color: var(--fill-color);\n",
              "      border-top-color: var(--fill-color);\n",
              "      border-right-color: var(--fill-color);\n",
              "    }\n",
              "    40% {\n",
              "      border-color: transparent;\n",
              "      border-right-color: var(--fill-color);\n",
              "      border-top-color: var(--fill-color);\n",
              "    }\n",
              "    60% {\n",
              "      border-color: transparent;\n",
              "      border-right-color: var(--fill-color);\n",
              "    }\n",
              "    80% {\n",
              "      border-color: transparent;\n",
              "      border-right-color: var(--fill-color);\n",
              "      border-bottom-color: var(--fill-color);\n",
              "    }\n",
              "    90% {\n",
              "      border-color: transparent;\n",
              "      border-bottom-color: var(--fill-color);\n",
              "    }\n",
              "  }\n",
              "</style>\n",
              "\n",
              "  <script>\n",
              "    async function quickchart(key) {\n",
              "      const quickchartButtonEl =\n",
              "        document.querySelector('#' + key + ' button');\n",
              "      quickchartButtonEl.disabled = true;  // To prevent multiple clicks.\n",
              "      quickchartButtonEl.classList.add('colab-df-spinner');\n",
              "      try {\n",
              "        const charts = await google.colab.kernel.invokeFunction(\n",
              "            'suggestCharts', [key], {});\n",
              "      } catch (error) {\n",
              "        console.error('Error during call to suggestCharts:', error);\n",
              "      }\n",
              "      quickchartButtonEl.classList.remove('colab-df-spinner');\n",
              "      quickchartButtonEl.classList.add('colab-df-quickchart-complete');\n",
              "    }\n",
              "    (() => {\n",
              "      let quickchartButtonEl =\n",
              "        document.querySelector('#df-ae356a66-c272-4bf9-98b9-0c8390023299 button');\n",
              "      quickchartButtonEl.style.display =\n",
              "        google.colab.kernel.accessAllowed ? 'block' : 'none';\n",
              "    })();\n",
              "  </script>\n",
              "</div>\n",
              "    </div>\n",
              "  </div>\n"
            ],
            "text/plain": [
              "   age           job  marital education_qual call_type  day  mon    dur  \\\n",
              "0   58    management  married       tertiary   unknown  5.0  may  261.0   \n",
              "1   44    technician   single      secondary   unknown  5.0  may  151.0   \n",
              "2   33  entrepreneur  married      secondary   unknown  5.0  may   76.0   \n",
              "3   47   blue-collar  married      secondary   unknown  5.0  may   92.0   \n",
              "4   33   blue-collar   single      secondary   unknown  5.0  may  198.0   \n",
              "\n",
              "   num_calls prev_outcome   y  \n",
              "0        1.0      unknown  no  \n",
              "1        1.0      unknown  no  \n",
              "2        1.0      unknown  no  \n",
              "3        1.0      unknown  no  \n",
              "4        1.0      unknown  no  "
            ]
          },
          "execution_count": 23,
          "metadata": {},
          "output_type": "execute_result"
        }
      ],
      "source": [
        "df.head()"
      ]
    },
    {
      "cell_type": "markdown",
      "metadata": {
        "id": "IJK4ADpII-ld"
      },
      "source": [
        "# Converting the target value 'y' from 'str' to 'int'"
      ]
    },
    {
      "cell_type": "code",
      "execution_count": null,
      "metadata": {
        "colab": {
          "background_save": true,
          "base_uri": "https://localhost:8080/",
          "height": 206
        },
        "id": "wmPZnJJjIt6W",
        "outputId": "68dd558a-380f-4c77-d616-22bfba6e3e6a"
      },
      "outputs": [
        {
          "data": {
            "text/html": [
              "\n",
              "  <div id=\"df-9da8e900-dde4-4ac8-975d-deb5310b8f9f\" class=\"colab-df-container\">\n",
              "    <div>\n",
              "<style scoped>\n",
              "    .dataframe tbody tr th:only-of-type {\n",
              "        vertical-align: middle;\n",
              "    }\n",
              "\n",
              "    .dataframe tbody tr th {\n",
              "        vertical-align: top;\n",
              "    }\n",
              "\n",
              "    .dataframe thead th {\n",
              "        text-align: right;\n",
              "    }\n",
              "</style>\n",
              "<table border=\"1\" class=\"dataframe\">\n",
              "  <thead>\n",
              "    <tr style=\"text-align: right;\">\n",
              "      <th></th>\n",
              "      <th>age</th>\n",
              "      <th>job</th>\n",
              "      <th>marital</th>\n",
              "      <th>education_qual</th>\n",
              "      <th>call_type</th>\n",
              "      <th>day</th>\n",
              "      <th>mon</th>\n",
              "      <th>dur</th>\n",
              "      <th>num_calls</th>\n",
              "      <th>prev_outcome</th>\n",
              "      <th>y</th>\n",
              "    </tr>\n",
              "  </thead>\n",
              "  <tbody>\n",
              "    <tr>\n",
              "      <th>32768</th>\n",
              "      <td>30</td>\n",
              "      <td>blue-collar</td>\n",
              "      <td>married</td>\n",
              "      <td>secondary</td>\n",
              "      <td>cellular</td>\n",
              "      <td>17.0</td>\n",
              "      <td>apr</td>\n",
              "      <td>191.0</td>\n",
              "      <td>1.0</td>\n",
              "      <td>failure</td>\n",
              "      <td>0.0</td>\n",
              "    </tr>\n",
              "    <tr>\n",
              "      <th>32769</th>\n",
              "      <td>39</td>\n",
              "      <td>blue-collar</td>\n",
              "      <td>married</td>\n",
              "      <td>primary</td>\n",
              "      <td>cellular</td>\n",
              "      <td>17.0</td>\n",
              "      <td>apr</td>\n",
              "      <td>206.0</td>\n",
              "      <td>1.0</td>\n",
              "      <td>unknown</td>\n",
              "      <td>0.0</td>\n",
              "    </tr>\n",
              "    <tr>\n",
              "      <th>32770</th>\n",
              "      <td>29</td>\n",
              "      <td>technician</td>\n",
              "      <td>married</td>\n",
              "      <td>secondary</td>\n",
              "      <td>cellular</td>\n",
              "      <td>17.0</td>\n",
              "      <td>apr</td>\n",
              "      <td>367.0</td>\n",
              "      <td>3.0</td>\n",
              "      <td>failure</td>\n",
              "      <td>1.0</td>\n",
              "    </tr>\n",
              "    <tr>\n",
              "      <th>32771</th>\n",
              "      <td>39</td>\n",
              "      <td>management</td>\n",
              "      <td>married</td>\n",
              "      <td>secondary</td>\n",
              "      <td>telephone</td>\n",
              "      <td>17.0</td>\n",
              "      <td>apr</td>\n",
              "      <td>141.0</td>\n",
              "      <td>4.0</td>\n",
              "      <td>unknown</td>\n",
              "      <td>0.0</td>\n",
              "    </tr>\n",
              "    <tr>\n",
              "      <th>32772</th>\n",
              "      <td>32</td>\n",
              "      <td>managem</td>\n",
              "      <td>NaN</td>\n",
              "      <td>NaN</td>\n",
              "      <td>NaN</td>\n",
              "      <td>NaN</td>\n",
              "      <td>NaN</td>\n",
              "      <td>NaN</td>\n",
              "      <td>NaN</td>\n",
              "      <td>NaN</td>\n",
              "      <td>NaN</td>\n",
              "    </tr>\n",
              "  </tbody>\n",
              "</table>\n",
              "</div>\n",
              "    <div class=\"colab-df-buttons\">\n",
              "\n",
              "  <div class=\"colab-df-container\">\n",
              "    <button class=\"colab-df-convert\" onclick=\"convertToInteractive('df-9da8e900-dde4-4ac8-975d-deb5310b8f9f')\"\n",
              "            title=\"Convert this dataframe to an interactive table.\"\n",
              "            style=\"display:none;\">\n",
              "\n",
              "  <svg xmlns=\"http://www.w3.org/2000/svg\" height=\"24px\" viewBox=\"0 -960 960 960\">\n",
              "    <path d=\"M120-120v-720h720v720H120Zm60-500h600v-160H180v160Zm220 220h160v-160H400v160Zm0 220h160v-160H400v160ZM180-400h160v-160H180v160Zm440 0h160v-160H620v160ZM180-180h160v-160H180v160Zm440 0h160v-160H620v160Z\"/>\n",
              "  </svg>\n",
              "    </button>\n",
              "\n",
              "  <style>\n",
              "    .colab-df-container {\n",
              "      display:flex;\n",
              "      gap: 12px;\n",
              "    }\n",
              "\n",
              "    .colab-df-convert {\n",
              "      background-color: #E8F0FE;\n",
              "      border: none;\n",
              "      border-radius: 50%;\n",
              "      cursor: pointer;\n",
              "      display: none;\n",
              "      fill: #1967D2;\n",
              "      height: 32px;\n",
              "      padding: 0 0 0 0;\n",
              "      width: 32px;\n",
              "    }\n",
              "\n",
              "    .colab-df-convert:hover {\n",
              "      background-color: #E2EBFA;\n",
              "      box-shadow: 0px 1px 2px rgba(60, 64, 67, 0.3), 0px 1px 3px 1px rgba(60, 64, 67, 0.15);\n",
              "      fill: #174EA6;\n",
              "    }\n",
              "\n",
              "    .colab-df-buttons div {\n",
              "      margin-bottom: 4px;\n",
              "    }\n",
              "\n",
              "    [theme=dark] .colab-df-convert {\n",
              "      background-color: #3B4455;\n",
              "      fill: #D2E3FC;\n",
              "    }\n",
              "\n",
              "    [theme=dark] .colab-df-convert:hover {\n",
              "      background-color: #434B5C;\n",
              "      box-shadow: 0px 1px 3px 1px rgba(0, 0, 0, 0.15);\n",
              "      filter: drop-shadow(0px 1px 2px rgba(0, 0, 0, 0.3));\n",
              "      fill: #FFFFFF;\n",
              "    }\n",
              "  </style>\n",
              "\n",
              "    <script>\n",
              "      const buttonEl =\n",
              "        document.querySelector('#df-9da8e900-dde4-4ac8-975d-deb5310b8f9f button.colab-df-convert');\n",
              "      buttonEl.style.display =\n",
              "        google.colab.kernel.accessAllowed ? 'block' : 'none';\n",
              "\n",
              "      async function convertToInteractive(key) {\n",
              "        const element = document.querySelector('#df-9da8e900-dde4-4ac8-975d-deb5310b8f9f');\n",
              "        const dataTable =\n",
              "          await google.colab.kernel.invokeFunction('convertToInteractive',\n",
              "                                                    [key], {});\n",
              "        if (!dataTable) return;\n",
              "\n",
              "        const docLinkHtml = 'Like what you see? Visit the ' +\n",
              "          '<a target=\"_blank\" href=https://colab.research.google.com/notebooks/data_table.ipynb>data table notebook</a>'\n",
              "          + ' to learn more about interactive tables.';\n",
              "        element.innerHTML = '';\n",
              "        dataTable['output_type'] = 'display_data';\n",
              "        await google.colab.output.renderOutput(dataTable, element);\n",
              "        const docLink = document.createElement('div');\n",
              "        docLink.innerHTML = docLinkHtml;\n",
              "        element.appendChild(docLink);\n",
              "      }\n",
              "    </script>\n",
              "  </div>\n",
              "\n",
              "\n",
              "<div id=\"df-7ee02ec7-a1b4-40d1-a784-8f01f8945a11\">\n",
              "  <button class=\"colab-df-quickchart\" onclick=\"quickchart('df-7ee02ec7-a1b4-40d1-a784-8f01f8945a11')\"\n",
              "            title=\"Suggest charts.\"\n",
              "            style=\"display:none;\">\n",
              "\n",
              "<svg xmlns=\"http://www.w3.org/2000/svg\" height=\"24px\"viewBox=\"0 0 24 24\"\n",
              "     width=\"24px\">\n",
              "    <g>\n",
              "        <path d=\"M19 3H5c-1.1 0-2 .9-2 2v14c0 1.1.9 2 2 2h14c1.1 0 2-.9 2-2V5c0-1.1-.9-2-2-2zM9 17H7v-7h2v7zm4 0h-2V7h2v10zm4 0h-2v-4h2v4z\"/>\n",
              "    </g>\n",
              "</svg>\n",
              "  </button>\n",
              "\n",
              "<style>\n",
              "  .colab-df-quickchart {\n",
              "      --bg-color: #E8F0FE;\n",
              "      --fill-color: #1967D2;\n",
              "      --hover-bg-color: #E2EBFA;\n",
              "      --hover-fill-color: #174EA6;\n",
              "      --disabled-fill-color: #AAA;\n",
              "      --disabled-bg-color: #DDD;\n",
              "  }\n",
              "\n",
              "  [theme=dark] .colab-df-quickchart {\n",
              "      --bg-color: #3B4455;\n",
              "      --fill-color: #D2E3FC;\n",
              "      --hover-bg-color: #434B5C;\n",
              "      --hover-fill-color: #FFFFFF;\n",
              "      --disabled-bg-color: #3B4455;\n",
              "      --disabled-fill-color: #666;\n",
              "  }\n",
              "\n",
              "  .colab-df-quickchart {\n",
              "    background-color: var(--bg-color);\n",
              "    border: none;\n",
              "    border-radius: 50%;\n",
              "    cursor: pointer;\n",
              "    display: none;\n",
              "    fill: var(--fill-color);\n",
              "    height: 32px;\n",
              "    padding: 0;\n",
              "    width: 32px;\n",
              "  }\n",
              "\n",
              "  .colab-df-quickchart:hover {\n",
              "    background-color: var(--hover-bg-color);\n",
              "    box-shadow: 0 1px 2px rgba(60, 64, 67, 0.3), 0 1px 3px 1px rgba(60, 64, 67, 0.15);\n",
              "    fill: var(--button-hover-fill-color);\n",
              "  }\n",
              "\n",
              "  .colab-df-quickchart-complete:disabled,\n",
              "  .colab-df-quickchart-complete:disabled:hover {\n",
              "    background-color: var(--disabled-bg-color);\n",
              "    fill: var(--disabled-fill-color);\n",
              "    box-shadow: none;\n",
              "  }\n",
              "\n",
              "  .colab-df-spinner {\n",
              "    border: 2px solid var(--fill-color);\n",
              "    border-color: transparent;\n",
              "    border-bottom-color: var(--fill-color);\n",
              "    animation:\n",
              "      spin 1s steps(1) infinite;\n",
              "  }\n",
              "\n",
              "  @keyframes spin {\n",
              "    0% {\n",
              "      border-color: transparent;\n",
              "      border-bottom-color: var(--fill-color);\n",
              "      border-left-color: var(--fill-color);\n",
              "    }\n",
              "    20% {\n",
              "      border-color: transparent;\n",
              "      border-left-color: var(--fill-color);\n",
              "      border-top-color: var(--fill-color);\n",
              "    }\n",
              "    30% {\n",
              "      border-color: transparent;\n",
              "      border-left-color: var(--fill-color);\n",
              "      border-top-color: var(--fill-color);\n",
              "      border-right-color: var(--fill-color);\n",
              "    }\n",
              "    40% {\n",
              "      border-color: transparent;\n",
              "      border-right-color: var(--fill-color);\n",
              "      border-top-color: var(--fill-color);\n",
              "    }\n",
              "    60% {\n",
              "      border-color: transparent;\n",
              "      border-right-color: var(--fill-color);\n",
              "    }\n",
              "    80% {\n",
              "      border-color: transparent;\n",
              "      border-right-color: var(--fill-color);\n",
              "      border-bottom-color: var(--fill-color);\n",
              "    }\n",
              "    90% {\n",
              "      border-color: transparent;\n",
              "      border-bottom-color: var(--fill-color);\n",
              "    }\n",
              "  }\n",
              "</style>\n",
              "\n",
              "  <script>\n",
              "    async function quickchart(key) {\n",
              "      const quickchartButtonEl =\n",
              "        document.querySelector('#' + key + ' button');\n",
              "      quickchartButtonEl.disabled = true;  // To prevent multiple clicks.\n",
              "      quickchartButtonEl.classList.add('colab-df-spinner');\n",
              "      try {\n",
              "        const charts = await google.colab.kernel.invokeFunction(\n",
              "            'suggestCharts', [key], {});\n",
              "      } catch (error) {\n",
              "        console.error('Error during call to suggestCharts:', error);\n",
              "      }\n",
              "      quickchartButtonEl.classList.remove('colab-df-spinner');\n",
              "      quickchartButtonEl.classList.add('colab-df-quickchart-complete');\n",
              "    }\n",
              "    (() => {\n",
              "      let quickchartButtonEl =\n",
              "        document.querySelector('#df-7ee02ec7-a1b4-40d1-a784-8f01f8945a11 button');\n",
              "      quickchartButtonEl.style.display =\n",
              "        google.colab.kernel.accessAllowed ? 'block' : 'none';\n",
              "    })();\n",
              "  </script>\n",
              "</div>\n",
              "    </div>\n",
              "  </div>\n"
            ],
            "text/plain": [
              "       age          job  marital education_qual  call_type   day  mon    dur  \\\n",
              "32768   30  blue-collar  married      secondary   cellular  17.0  apr  191.0   \n",
              "32769   39  blue-collar  married        primary   cellular  17.0  apr  206.0   \n",
              "32770   29   technician  married      secondary   cellular  17.0  apr  367.0   \n",
              "32771   39   management  married      secondary  telephone  17.0  apr  141.0   \n",
              "32772   32      managem      NaN            NaN        NaN   NaN  NaN    NaN   \n",
              "\n",
              "       num_calls prev_outcome    y  \n",
              "32768        1.0      failure  0.0  \n",
              "32769        1.0      unknown  0.0  \n",
              "32770        3.0      failure  1.0  \n",
              "32771        4.0      unknown  0.0  \n",
              "32772        NaN          NaN  NaN  "
            ]
          },
          "execution_count": 24,
          "metadata": {},
          "output_type": "execute_result"
        }
      ],
      "source": [
        "# encode the 'target' column :\n",
        "df['y'] = df['y'].map({'yes':1,'no':0})\n",
        "df.tail()\n"
      ]
    },
    {
      "cell_type": "code",
      "execution_count": null,
      "metadata": {
        "colab": {
          "background_save": true,
          "base_uri": "https://localhost:8080/"
        },
        "id": "pECx8mjtJLj6",
        "outputId": "4d65b847-aba9-4f43-db52-90d5695680c7"
      },
      "outputs": [
        {
          "data": {
            "text/plain": [
              "age                 int64\n",
              "job                object\n",
              "marital            object\n",
              "education_qual     object\n",
              "call_type          object\n",
              "day               float64\n",
              "mon                object\n",
              "dur               float64\n",
              "num_calls         float64\n",
              "prev_outcome       object\n",
              "y                 float64\n",
              "dtype: object"
            ]
          },
          "execution_count": 25,
          "metadata": {},
          "output_type": "execute_result"
        }
      ],
      "source": [
        "df.dtypes"
      ]
    },
    {
      "cell_type": "code",
      "execution_count": null,
      "metadata": {
        "colab": {
          "background_save": true,
          "base_uri": "https://localhost:8080/",
          "height": 300
        },
        "id": "7a5HceQ8L3tP",
        "outputId": "498fad63-e8fc-4540-e5a3-5c8e958b8a5d"
      },
      "outputs": [
        {
          "data": {
            "text/html": [
              "\n",
              "  <div id=\"df-7cfb52d8-7967-4983-a58a-1272f42b228f\" class=\"colab-df-container\">\n",
              "    <div>\n",
              "<style scoped>\n",
              "    .dataframe tbody tr th:only-of-type {\n",
              "        vertical-align: middle;\n",
              "    }\n",
              "\n",
              "    .dataframe tbody tr th {\n",
              "        vertical-align: top;\n",
              "    }\n",
              "\n",
              "    .dataframe thead th {\n",
              "        text-align: right;\n",
              "    }\n",
              "</style>\n",
              "<table border=\"1\" class=\"dataframe\">\n",
              "  <thead>\n",
              "    <tr style=\"text-align: right;\">\n",
              "      <th></th>\n",
              "      <th>age</th>\n",
              "      <th>day</th>\n",
              "      <th>dur</th>\n",
              "      <th>num_calls</th>\n",
              "      <th>y</th>\n",
              "    </tr>\n",
              "  </thead>\n",
              "  <tbody>\n",
              "    <tr>\n",
              "      <th>count</th>\n",
              "      <td>32767.000000</td>\n",
              "      <td>32766.000000</td>\n",
              "      <td>32766.000000</td>\n",
              "      <td>32766.000000</td>\n",
              "      <td>32766.000000</td>\n",
              "    </tr>\n",
              "    <tr>\n",
              "      <th>mean</th>\n",
              "      <td>41.058260</td>\n",
              "      <td>16.499725</td>\n",
              "      <td>254.719618</td>\n",
              "      <td>3.017152</td>\n",
              "      <td>0.060581</td>\n",
              "    </tr>\n",
              "    <tr>\n",
              "      <th>std</th>\n",
              "      <td>9.618344</td>\n",
              "      <td>8.481715</td>\n",
              "      <td>262.884323</td>\n",
              "      <td>3.465002</td>\n",
              "      <td>0.238564</td>\n",
              "    </tr>\n",
              "    <tr>\n",
              "      <th>min</th>\n",
              "      <td>19.000000</td>\n",
              "      <td>1.000000</td>\n",
              "      <td>0.000000</td>\n",
              "      <td>1.000000</td>\n",
              "      <td>0.000000</td>\n",
              "    </tr>\n",
              "    <tr>\n",
              "      <th>25%</th>\n",
              "      <td>33.000000</td>\n",
              "      <td>9.000000</td>\n",
              "      <td>100.000000</td>\n",
              "      <td>1.000000</td>\n",
              "      <td>0.000000</td>\n",
              "    </tr>\n",
              "    <tr>\n",
              "      <th>50%</th>\n",
              "      <td>40.000000</td>\n",
              "      <td>17.000000</td>\n",
              "      <td>173.000000</td>\n",
              "      <td>2.000000</td>\n",
              "      <td>0.000000</td>\n",
              "    </tr>\n",
              "    <tr>\n",
              "      <th>75%</th>\n",
              "      <td>49.000000</td>\n",
              "      <td>23.000000</td>\n",
              "      <td>309.000000</td>\n",
              "      <td>3.000000</td>\n",
              "      <td>0.000000</td>\n",
              "    </tr>\n",
              "    <tr>\n",
              "      <th>max</th>\n",
              "      <td>94.000000</td>\n",
              "      <td>31.000000</td>\n",
              "      <td>4918.000000</td>\n",
              "      <td>63.000000</td>\n",
              "      <td>1.000000</td>\n",
              "    </tr>\n",
              "  </tbody>\n",
              "</table>\n",
              "</div>\n",
              "    <div class=\"colab-df-buttons\">\n",
              "\n",
              "  <div class=\"colab-df-container\">\n",
              "    <button class=\"colab-df-convert\" onclick=\"convertToInteractive('df-7cfb52d8-7967-4983-a58a-1272f42b228f')\"\n",
              "            title=\"Convert this dataframe to an interactive table.\"\n",
              "            style=\"display:none;\">\n",
              "\n",
              "  <svg xmlns=\"http://www.w3.org/2000/svg\" height=\"24px\" viewBox=\"0 -960 960 960\">\n",
              "    <path d=\"M120-120v-720h720v720H120Zm60-500h600v-160H180v160Zm220 220h160v-160H400v160Zm0 220h160v-160H400v160ZM180-400h160v-160H180v160Zm440 0h160v-160H620v160ZM180-180h160v-160H180v160Zm440 0h160v-160H620v160Z\"/>\n",
              "  </svg>\n",
              "    </button>\n",
              "\n",
              "  <style>\n",
              "    .colab-df-container {\n",
              "      display:flex;\n",
              "      gap: 12px;\n",
              "    }\n",
              "\n",
              "    .colab-df-convert {\n",
              "      background-color: #E8F0FE;\n",
              "      border: none;\n",
              "      border-radius: 50%;\n",
              "      cursor: pointer;\n",
              "      display: none;\n",
              "      fill: #1967D2;\n",
              "      height: 32px;\n",
              "      padding: 0 0 0 0;\n",
              "      width: 32px;\n",
              "    }\n",
              "\n",
              "    .colab-df-convert:hover {\n",
              "      background-color: #E2EBFA;\n",
              "      box-shadow: 0px 1px 2px rgba(60, 64, 67, 0.3), 0px 1px 3px 1px rgba(60, 64, 67, 0.15);\n",
              "      fill: #174EA6;\n",
              "    }\n",
              "\n",
              "    .colab-df-buttons div {\n",
              "      margin-bottom: 4px;\n",
              "    }\n",
              "\n",
              "    [theme=dark] .colab-df-convert {\n",
              "      background-color: #3B4455;\n",
              "      fill: #D2E3FC;\n",
              "    }\n",
              "\n",
              "    [theme=dark] .colab-df-convert:hover {\n",
              "      background-color: #434B5C;\n",
              "      box-shadow: 0px 1px 3px 1px rgba(0, 0, 0, 0.15);\n",
              "      filter: drop-shadow(0px 1px 2px rgba(0, 0, 0, 0.3));\n",
              "      fill: #FFFFFF;\n",
              "    }\n",
              "  </style>\n",
              "\n",
              "    <script>\n",
              "      const buttonEl =\n",
              "        document.querySelector('#df-7cfb52d8-7967-4983-a58a-1272f42b228f button.colab-df-convert');\n",
              "      buttonEl.style.display =\n",
              "        google.colab.kernel.accessAllowed ? 'block' : 'none';\n",
              "\n",
              "      async function convertToInteractive(key) {\n",
              "        const element = document.querySelector('#df-7cfb52d8-7967-4983-a58a-1272f42b228f');\n",
              "        const dataTable =\n",
              "          await google.colab.kernel.invokeFunction('convertToInteractive',\n",
              "                                                    [key], {});\n",
              "        if (!dataTable) return;\n",
              "\n",
              "        const docLinkHtml = 'Like what you see? Visit the ' +\n",
              "          '<a target=\"_blank\" href=https://colab.research.google.com/notebooks/data_table.ipynb>data table notebook</a>'\n",
              "          + ' to learn more about interactive tables.';\n",
              "        element.innerHTML = '';\n",
              "        dataTable['output_type'] = 'display_data';\n",
              "        await google.colab.output.renderOutput(dataTable, element);\n",
              "        const docLink = document.createElement('div');\n",
              "        docLink.innerHTML = docLinkHtml;\n",
              "        element.appendChild(docLink);\n",
              "      }\n",
              "    </script>\n",
              "  </div>\n",
              "\n",
              "\n",
              "<div id=\"df-7554cbea-fd78-4ee4-ac49-eceb1bc0d89d\">\n",
              "  <button class=\"colab-df-quickchart\" onclick=\"quickchart('df-7554cbea-fd78-4ee4-ac49-eceb1bc0d89d')\"\n",
              "            title=\"Suggest charts.\"\n",
              "            style=\"display:none;\">\n",
              "\n",
              "<svg xmlns=\"http://www.w3.org/2000/svg\" height=\"24px\"viewBox=\"0 0 24 24\"\n",
              "     width=\"24px\">\n",
              "    <g>\n",
              "        <path d=\"M19 3H5c-1.1 0-2 .9-2 2v14c0 1.1.9 2 2 2h14c1.1 0 2-.9 2-2V5c0-1.1-.9-2-2-2zM9 17H7v-7h2v7zm4 0h-2V7h2v10zm4 0h-2v-4h2v4z\"/>\n",
              "    </g>\n",
              "</svg>\n",
              "  </button>\n",
              "\n",
              "<style>\n",
              "  .colab-df-quickchart {\n",
              "      --bg-color: #E8F0FE;\n",
              "      --fill-color: #1967D2;\n",
              "      --hover-bg-color: #E2EBFA;\n",
              "      --hover-fill-color: #174EA6;\n",
              "      --disabled-fill-color: #AAA;\n",
              "      --disabled-bg-color: #DDD;\n",
              "  }\n",
              "\n",
              "  [theme=dark] .colab-df-quickchart {\n",
              "      --bg-color: #3B4455;\n",
              "      --fill-color: #D2E3FC;\n",
              "      --hover-bg-color: #434B5C;\n",
              "      --hover-fill-color: #FFFFFF;\n",
              "      --disabled-bg-color: #3B4455;\n",
              "      --disabled-fill-color: #666;\n",
              "  }\n",
              "\n",
              "  .colab-df-quickchart {\n",
              "    background-color: var(--bg-color);\n",
              "    border: none;\n",
              "    border-radius: 50%;\n",
              "    cursor: pointer;\n",
              "    display: none;\n",
              "    fill: var(--fill-color);\n",
              "    height: 32px;\n",
              "    padding: 0;\n",
              "    width: 32px;\n",
              "  }\n",
              "\n",
              "  .colab-df-quickchart:hover {\n",
              "    background-color: var(--hover-bg-color);\n",
              "    box-shadow: 0 1px 2px rgba(60, 64, 67, 0.3), 0 1px 3px 1px rgba(60, 64, 67, 0.15);\n",
              "    fill: var(--button-hover-fill-color);\n",
              "  }\n",
              "\n",
              "  .colab-df-quickchart-complete:disabled,\n",
              "  .colab-df-quickchart-complete:disabled:hover {\n",
              "    background-color: var(--disabled-bg-color);\n",
              "    fill: var(--disabled-fill-color);\n",
              "    box-shadow: none;\n",
              "  }\n",
              "\n",
              "  .colab-df-spinner {\n",
              "    border: 2px solid var(--fill-color);\n",
              "    border-color: transparent;\n",
              "    border-bottom-color: var(--fill-color);\n",
              "    animation:\n",
              "      spin 1s steps(1) infinite;\n",
              "  }\n",
              "\n",
              "  @keyframes spin {\n",
              "    0% {\n",
              "      border-color: transparent;\n",
              "      border-bottom-color: var(--fill-color);\n",
              "      border-left-color: var(--fill-color);\n",
              "    }\n",
              "    20% {\n",
              "      border-color: transparent;\n",
              "      border-left-color: var(--fill-color);\n",
              "      border-top-color: var(--fill-color);\n",
              "    }\n",
              "    30% {\n",
              "      border-color: transparent;\n",
              "      border-left-color: var(--fill-color);\n",
              "      border-top-color: var(--fill-color);\n",
              "      border-right-color: var(--fill-color);\n",
              "    }\n",
              "    40% {\n",
              "      border-color: transparent;\n",
              "      border-right-color: var(--fill-color);\n",
              "      border-top-color: var(--fill-color);\n",
              "    }\n",
              "    60% {\n",
              "      border-color: transparent;\n",
              "      border-right-color: var(--fill-color);\n",
              "    }\n",
              "    80% {\n",
              "      border-color: transparent;\n",
              "      border-right-color: var(--fill-color);\n",
              "      border-bottom-color: var(--fill-color);\n",
              "    }\n",
              "    90% {\n",
              "      border-color: transparent;\n",
              "      border-bottom-color: var(--fill-color);\n",
              "    }\n",
              "  }\n",
              "</style>\n",
              "\n",
              "  <script>\n",
              "    async function quickchart(key) {\n",
              "      const quickchartButtonEl =\n",
              "        document.querySelector('#' + key + ' button');\n",
              "      quickchartButtonEl.disabled = true;  // To prevent multiple clicks.\n",
              "      quickchartButtonEl.classList.add('colab-df-spinner');\n",
              "      try {\n",
              "        const charts = await google.colab.kernel.invokeFunction(\n",
              "            'suggestCharts', [key], {});\n",
              "      } catch (error) {\n",
              "        console.error('Error during call to suggestCharts:', error);\n",
              "      }\n",
              "      quickchartButtonEl.classList.remove('colab-df-spinner');\n",
              "      quickchartButtonEl.classList.add('colab-df-quickchart-complete');\n",
              "    }\n",
              "    (() => {\n",
              "      let quickchartButtonEl =\n",
              "        document.querySelector('#df-7554cbea-fd78-4ee4-ac49-eceb1bc0d89d button');\n",
              "      quickchartButtonEl.style.display =\n",
              "        google.colab.kernel.accessAllowed ? 'block' : 'none';\n",
              "    })();\n",
              "  </script>\n",
              "</div>\n",
              "    </div>\n",
              "  </div>\n"
            ],
            "text/plain": [
              "                age           day           dur     num_calls             y\n",
              "count  32767.000000  32766.000000  32766.000000  32766.000000  32766.000000\n",
              "mean      41.058260     16.499725    254.719618      3.017152      0.060581\n",
              "std        9.618344      8.481715    262.884323      3.465002      0.238564\n",
              "min       19.000000      1.000000      0.000000      1.000000      0.000000\n",
              "25%       33.000000      9.000000    100.000000      1.000000      0.000000\n",
              "50%       40.000000     17.000000    173.000000      2.000000      0.000000\n",
              "75%       49.000000     23.000000    309.000000      3.000000      0.000000\n",
              "max       94.000000     31.000000   4918.000000     63.000000      1.000000"
            ]
          },
          "execution_count": 26,
          "metadata": {},
          "output_type": "execute_result"
        }
      ],
      "source": [
        "df.describe()"
      ]
    },
    {
      "cell_type": "code",
      "execution_count": null,
      "metadata": {
        "colab": {
          "background_save": true,
          "base_uri": "https://localhost:8080/"
        },
        "id": "4RMjHTwCTSPn",
        "outputId": "70641614-ed32-4a0e-8b86-690f416ddf67"
      },
      "outputs": [
        {
          "name": "stdout",
          "output_type": "stream",
          "text": [
            "iqr : 16.0\n",
            "upper_limit : 73.0\n",
            "lower_limit : 9.0\n"
          ]
        }
      ],
      "source": [
        "# outlier treatments for 'age' :\n",
        "iqr =df['age'].quantile(0.75) - df['age'].quantile(0.25)\n",
        "print('iqr :',iqr)\n",
        "\n",
        "upper_limit = df['age'].quantile(0.75) + 1.5*iqr\n",
        "print('upper_limit :',upper_limit)\n",
        "\n",
        "lower_limit = df['age'].quantile(0.25) - 1.5*iqr\n",
        "print('lower_limit :',lower_limit)\n",
        "\n",
        "# clip the outliers uisng pandas:\n",
        "df['age'] = df['age'].clip(lower_limit,upper_limit)\n"
      ]
    },
    {
      "cell_type": "code",
      "execution_count": null,
      "metadata": {
        "colab": {
          "background_save": true,
          "base_uri": "https://localhost:8080/"
        },
        "id": "U_YDcffdMEuB",
        "outputId": "19d4186d-418a-486d-c18a-cbd988ff8afe"
      },
      "outputs": [
        {
          "data": {
            "text/plain": [
              "count    32767.000000\n",
              "mean        41.050783\n",
              "std          9.589718\n",
              "min         19.000000\n",
              "25%         33.000000\n",
              "50%         40.000000\n",
              "75%         49.000000\n",
              "max         73.000000\n",
              "Name: age, dtype: float64"
            ]
          },
          "execution_count": 28,
          "metadata": {},
          "output_type": "execute_result"
        }
      ],
      "source": [
        "df['age'].describe()"
      ]
    },
    {
      "cell_type": "code",
      "execution_count": null,
      "metadata": {
        "colab": {
          "background_save": true,
          "base_uri": "https://localhost:8080/"
        },
        "id": "frxttGAUWGYF",
        "outputId": "263a70f1-c5d8-4556-9d65-7e8694f52ce5"
      },
      "outputs": [
        {
          "name": "stdout",
          "output_type": "stream",
          "text": [
            "iqr : 14.0\n",
            "upper_limit : 44.0\n",
            "lower_limit : -12.0\n"
          ]
        }
      ],
      "source": [
        "# outlier treatments for 'day' :\n",
        "# no outliers in 'day' :\n",
        "iqr =df['day'].quantile(0.75) - df['day'].quantile(0.25)\n",
        "print('iqr :',iqr)\n",
        "\n",
        "upper_limit = df['day'].quantile(0.75) + 1.5*iqr\n",
        "print('upper_limit :',upper_limit)\n",
        "\n",
        "lower_limit = df['day'].quantile(0.25) - 1.5*iqr\n",
        "print('lower_limit :',lower_limit)\n",
        "\n",
        "# clip the outliers uisng pandas:\n",
        "df['day'] = df['day'].clip(lower_limit,upper_limit)"
      ]
    },
    {
      "cell_type": "code",
      "execution_count": null,
      "metadata": {
        "colab": {
          "background_save": true,
          "base_uri": "https://localhost:8080/"
        },
        "id": "mgiPx9VcXHUp",
        "outputId": "203cd85b-9daa-46cf-9584-21947c8bba11"
      },
      "outputs": [
        {
          "data": {
            "text/plain": [
              "count    32766.000000\n",
              "mean        16.499725\n",
              "std          8.481715\n",
              "min          1.000000\n",
              "25%          9.000000\n",
              "50%         17.000000\n",
              "75%         23.000000\n",
              "max         31.000000\n",
              "Name: day, dtype: float64"
            ]
          },
          "execution_count": 30,
          "metadata": {},
          "output_type": "execute_result"
        }
      ],
      "source": [
        "df['day'].describe()"
      ]
    },
    {
      "cell_type": "code",
      "execution_count": null,
      "metadata": {
        "colab": {
          "background_save": true,
          "base_uri": "https://localhost:8080/"
        },
        "id": "xABe3rkLXTy4",
        "outputId": "603d1a1f-dce9-47a9-d743-fdea25c0d68e"
      },
      "outputs": [
        {
          "name": "stdout",
          "output_type": "stream",
          "text": [
            "iqr : 209.0\n",
            "upper_limit : 622.5\n",
            "lower_limit : -213.5\n"
          ]
        }
      ],
      "source": [
        "# outlier treatments for 'dur' :\n",
        "iqr =df['dur'].quantile(0.75) - df['dur'].quantile(0.25)\n",
        "print('iqr :',iqr)\n",
        "\n",
        "upper_limit = df['dur'].quantile(0.75) + 1.5*iqr\n",
        "print('upper_limit :',upper_limit)\n",
        "\n",
        "lower_limit = df['dur'].quantile(0.25) - 1.5*iqr\n",
        "print('lower_limit :',lower_limit)\n",
        "\n",
        "# clip the outliers uisng pandas:\n",
        "df['dur'] = df['dur'].clip(lower_limit,upper_limit)\n"
      ]
    },
    {
      "cell_type": "code",
      "execution_count": null,
      "metadata": {
        "colab": {
          "background_save": true
        },
        "id": "v2ZvrE3wXv7p"
      },
      "outputs": [],
      "source": [
        "df['dur'].describe()"
      ]
    },
    {
      "cell_type": "code",
      "execution_count": null,
      "metadata": {
        "colab": {
          "background_save": true
        },
        "id": "-ZSeLOpUXyau"
      },
      "outputs": [],
      "source": [
        "# outlier treatments for 'num_calls' :\n",
        "iqr =df['num_calls'].quantile(0.75) - df['num_calls'].quantile(0.25)\n",
        "print('iqr :',iqr)\n",
        "\n",
        "upper_limit = df['num_calls'].quantile(0.75) + 1.5*iqr\n",
        "print('upper_limit :',upper_limit)\n",
        "\n",
        "lower_limit = df['num_calls'].quantile(0.25) - 1.5*iqr\n",
        "print('lower_limit :',lower_limit)\n",
        "\n",
        "# clip the outliers uisng pandas:\n",
        "df['num_calls'] = df['num_calls'].clip(lower_limit,upper_limit)"
      ]
    },
    {
      "cell_type": "code",
      "execution_count": null,
      "metadata": {
        "colab": {
          "background_save": true
        },
        "id": "T6F0DugSYq_u"
      },
      "outputs": [],
      "source": [
        "df['num_calls'].describe()"
      ]
    },
    {
      "cell_type": "markdown",
      "metadata": {
        "id": "CXMYTmEmY_ni"
      },
      "source": [
        "## EDA"
      ]
    },
    {
      "cell_type": "code",
      "execution_count": null,
      "metadata": {
        "colab": {
          "background_save": true
        },
        "id": "E8K7f127ZDAW"
      },
      "outputs": [],
      "source": [
        "# Exploratory Data Analysis (EDA):\n",
        "# Visualize the distribution of 'age' using a histogram\n",
        "plt.figure(figsize=(8, 6))\n",
        "sns.histplot(df['age'], bins=20, kde=True)\n",
        "plt.title('Age Distribution')\n",
        "plt.xlabel('Age')\n",
        "plt.ylabel('Frequency')\n",
        "plt.show()"
      ]
    },
    {
      "cell_type": "code",
      "execution_count": null,
      "metadata": {
        "colab": {
          "background_save": true
        },
        "id": "6neO1unfc0fG"
      },
      "outputs": [],
      "source": [
        "# Visualize the distribution of 'dur' using a histogram\n",
        "plt.figure(figsize=(8, 6))\n",
        "sns.histplot(df['dur'], bins=20, kde=True)\n",
        "plt.title('dur Distribution')\n",
        "plt.xlabel('dur')\n",
        "plt.ylabel('Frequency')\n",
        "plt.show()"
      ]
    },
    {
      "cell_type": "code",
      "execution_count": null,
      "metadata": {
        "colab": {
          "background_save": true
        },
        "id": "bELdbXBGdhtB"
      },
      "outputs": [],
      "source": [
        "# Visualize the distribution of 'num_calls' using a histogram\n",
        "plt.figure(figsize=(8,6))\n",
        "sns.histplot(df['num_calls'], bins=20,kde=True)\n",
        "plt.title('num_calls Distribution')\n",
        "plt.xlabel('num_calls')\n",
        "plt.ylabel('Frequency')"
      ]
    },
    {
      "cell_type": "code",
      "execution_count": null,
      "metadata": {
        "colab": {
          "background_save": true,
          "base_uri": "https://localhost:8080/",
          "height": 582
        },
        "id": "v5HKh-g5dhqE",
        "outputId": "e4195a86-65a9-4aa8-91b3-a2331d687cd1"
      },
      "outputs": [
        {
          "data": {
            "text/plain": [
              "Text(0, 0.5, 'Frequency')"
            ]
          },
          "execution_count": 38,
          "metadata": {},
          "output_type": "execute_result"
        },
        {
          "data": {
            "image/png": "[encoded data removed]",
            "text/plain": [
              "<Figure size 800x600 with 1 Axes>"
            ]
          },
          "metadata": {},
          "output_type": "display_data"
        }
      ],
      "source": [
        "# Visualize the distribution of 'day' using a histogram\n",
        "plt.figure(figsize=(8,6))\n",
        "sns.histplot(df['day'], bins=20,kde=True)\n",
        "plt.title('day Distribution')\n",
        "plt.xlabel('day')\n",
        "plt.ylabel('Frequency')"
      ]
    },
    {
      "cell_type": "code",
      "execution_count": null,
      "metadata": {
        "colab": {
          "background_save": true,
          "base_uri": "https://localhost:8080/"
        },
        "id": "iEUNcRXGwAcE",
        "outputId": "33f613c3-3ecd-44bb-f2b1-6a898ff7063f"
      },
      "outputs": [
        {
          "name": "stdout",
          "output_type": "stream",
          "text": [
            "<class 'pandas.core.frame.DataFrame'>\n",
            "Int64Index: 32767 entries, 0 to 32772\n",
            "Data columns (total 11 columns):\n",
            " #   Column          Non-Null Count  Dtype  \n",
            "---  ------          --------------  -----  \n",
            " 0   age             32767 non-null  int64  \n",
            " 1   job             32767 non-null  object \n",
            " 2   marital         32766 non-null  object \n",
            " 3   education_qual  32766 non-null  object \n",
            " 4   call_type       32766 non-null  object \n",
            " 5   day             32766 non-null  float64\n",
            " 6   mon             32766 non-null  object \n",
            " 7   dur             32766 non-null  float64\n",
            " 8   num_calls       32766 non-null  float64\n",
            " 9   prev_outcome    32766 non-null  object \n",
            " 10  y               32766 non-null  float64\n",
            "dtypes: float64(4), int64(1), object(6)\n",
            "memory usage: 3.0+ MB\n"
          ]
        }
      ],
      "source": [
        "df.info()"
      ]
    },
    {
      "cell_type": "markdown",
      "metadata": {
        "id": "u_t6TqQBt8-l"
      },
      "source": [
        "##Feature VS Target variable for ( catogory columns )"
      ]
    },
    {
      "cell_type": "code",
      "execution_count": null,
      "metadata": {
        "colab": {
          "background_save": true
        },
        "id": "OHx46Ml1tPea"
      },
      "outputs": [],
      "source": [
        "# Plotting the figure using barplot\n",
        "plt.figure(figsize=(20,15))\n",
        "\n",
        "subplot = plt.subplot(231)\n",
        "sns.barplot(x='job',y='y',data=df,order=df.groupby('job')['y'].mean().reset_index().sort_values('y')['job'])\n",
        "plt.xticks(rotation=45)\n",
        "plt.title('Job vs Target')\n",
        "\n",
        "\n",
        "subplot = plt.subplot(232)\n",
        "sns.barplot(x='marital',y='y',data=df,order=df.groupby('marital')['y'].mean().reset_index().sort_values('y')['marital'])\n",
        "plt.title('Marital vs Target')\n",
        "plt.xticks(rotation=45)\n",
        "plt.title('Marital vs Target')\n",
        "\n",
        "subplot = plt.subplot(233)\n",
        "sns.barplot(x= 'education_qual', y= 'y' , data = df , order = df.groupby('education_qual')['y'].mean().reset_index().sort_values('y')['education_qual'])\n",
        "plt.title('Education vs Target')\n",
        "plt.title('Education vs Target')\n",
        "plt.title('Education vs Target')\n",
        "\n",
        "\n",
        "subplot = plt.subplot(234)\n",
        "sns.barplot(x= 'call_type', y= 'y' , data = df , order = df.groupby('call_type')['y'].mean().reset_index().sort_values('y')['call_type'])\n",
        "plt.title('call_type vs Target')\n",
        "plt.title('call_type vs Target')\n",
        "plt.title('call_type vs Target')\n",
        "\n",
        "subplot = plt.subplot(235)\n",
        "sns.barplot(x= 'mon', y= 'y' , data = df , order = df.groupby('mon')['y'].mean().reset_index().sort_values('y')['mon'])\n",
        "plt.title('mon vs Target')\n",
        "plt.title('mon vs Target')\n",
        "plt.title('mon vs Target')\n",
        "\n",
        "subplot = plt.subplot(236)\n",
        "sns.barplot(x= 'prev_outcome', y= 'y' , data = df , order = df.groupby('prev_outcome')['y'].mean().reset_index().sort_values('y')['prev_outcome'])\n",
        "plt.title('prev_outcome vs Target')\n",
        "plt.title('prev_outcome vs Target')\n",
        "plt.title('prev_outcome vs Target')\n",
        "\n",
        "plt.show()\n",
        "plt.tight_layout()\n"
      ]
    },
    {
      "cell_type": "markdown",
      "metadata": {
        "id": "FMCoXGrz9DXU"
      },
      "source": [
        "##Feature VS Target variable for ( numerical columns )"
      ]
    },
    {
      "cell_type": "code",
      "execution_count": null,
      "metadata": {
        "colab": {
          "background_save": true
        },
        "id": "tGNIyV9a9Zs7"
      },
      "outputs": [],
      "source": [
        "# Plotting the figure using barplot\n",
        "df['age'] = df['age'].astype(int)\n",
        "\n",
        "sorted_age = sorted(df['age'].unique())\n",
        "plt.figure(figsize=(16,6))\n",
        "sns.barplot(x='age', y='y', data=df, order=sorted_age)\n",
        "plt.xticks(rotation=0)\n",
        "plt.title('Age vs Target')\n",
        "plt.show()\n"
      ]
    },
    {
      "cell_type": "code",
      "execution_count": null,
      "metadata": {
        "colab": {
          "background_save": true
        },
        "id": "_kuCBxQwCT8b"
      },
      "outputs": [],
      "source": [
        "# Plotting the figure using barplot\n",
        "sorted_age = sorted(df['day'].unique())\n",
        "plt.figure(figsize=(16,6))\n",
        "sns.barplot(x='day', y='y', data=df, order=sorted_age)\n",
        "plt.xticks(rotation=0)\n",
        "plt.title('Day vs Target')\n",
        "plt.show()"
      ]
    },
    {
      "cell_type": "code",
      "execution_count": null,
      "metadata": {
        "colab": {
          "background_save": true
        },
        "id": "bzhlqTaaEu1P"
      },
      "outputs": [],
      "source": [
        "# Plotting the figure using barplot\n",
        "sorted_age = sorted(df['num_calls'].unique())\n",
        "plt.figure(figsize=(16,6))\n",
        "sns.barplot(x='num_calls', y='y', data=df, order=sorted_age)\n",
        "plt.xticks(rotation=0)\n",
        "plt.title('num_calls vs Target')\n",
        "plt.show()"
      ]
    },
    {
      "cell_type": "code",
      "execution_count": null,
      "metadata": {
        "colab": {
          "background_save": true
        },
        "id": "6sGds4Y9Ham0"
      },
      "outputs": [],
      "source": [
        "df['education_qual'].value_counts()"
      ]
    },
    {
      "cell_type": "markdown",
      "metadata": {
        "id": "LkMr7PIPVnPq"
      },
      "source": [
        "# Label Encoding for [ 'job' , 'marital' , 'education_qual' 'mon'  ]:"
      ]
    },
    {
      "cell_type": "code",
      "execution_count": null,
      "metadata": {
        "colab": {
          "background_save": true
        },
        "id": "LxvWq3Sn95V1"
      },
      "outputs": [],
      "source": [
        "df['job'] = df['job'].map({'blue-collar':0,'management':1,'technician':2,'admin.':3,'services':4,'retired':5,'self-employed':6,'entrepreneur':7,'unemployed':8,'housemaid':9,'student':10})\n",
        "df['marital'] = df['marital'].map({'married':0,'single':1,'divorced':2})\n",
        "df['education_qual'] = df['education_qual'].map({'primary':0,'secondary':1,'tertiary':2,'unknown':3})\n",
        "df['mon'] = df['mon'].map({'jan':0,'feb':1,'mar':2,'apr':3,'may':4,'jun':5,'jul':6,'aug':7,'sep':8,'oct':9,'nov':10,'dec':11})"
      ]
    },
    {
      "cell_type": "code",
      "execution_count": null,
      "metadata": {
        "colab": {
          "background_save": true
        },
        "id": "zMe26B1s95SX"
      },
      "outputs": [],
      "source": [
        "df.head()"
      ]
    },
    {
      "cell_type": "markdown",
      "metadata": {
        "id": "M2zt1ZsGImAv"
      },
      "source": [
        "# One-hot-encoding for [ 'call_type' , 'prev_outcome' ]:"
      ]
    },
    {
      "cell_type": "code",
      "execution_count": null,
      "metadata": {
        "colab": {
          "background_save": true
        },
        "id": "H5RNWJbX95Pz"
      },
      "outputs": [],
      "source": [
        "df = pd.get_dummies(df, columns=['call_type','prev_outcome'])\n",
        "df.head()"
      ]
    },
    {
      "cell_type": "markdown",
      "metadata": {
        "id": "RPrGMY4yJOWG"
      },
      "source": [
        "# Target and Feature :"
      ]
    },
    {
      "cell_type": "code",
      "execution_count": null,
      "metadata": {
        "colab": {
          "background_save": true
        },
        "id": "eiEXPaXL95Cc"
      },
      "outputs": [],
      "source": [
        "x = df[['age','job','marital','education_qual','day','mon','dur','num_calls','call_type_cellular','call_type_telephone','call_type_unknown','prev_outcome_failure','prev_outcome_other','prev_outcome_success', 'prev_outcome_unknown']]\n",
        "y = df['y']\n"
      ]
    },
    {
      "cell_type": "markdown",
      "metadata": {
        "id": "MG1LbPguLkqo"
      },
      "source": [
        "# Train_test split :"
      ]
    },
    {
      "cell_type": "code",
      "execution_count": null,
      "metadata": {
        "colab": {
          "background_save": true
        },
        "id": "OEprivxPLiHK"
      },
      "outputs": [],
      "source": [
        "x_train,x_test,y_train,y_test = train_test_split(x,y,test_size=0.2,random_state=0)\n",
        "x_train.shape , x_test.shape ,  y_train.shape , y_test.shape"
      ]
    },
    {
      "cell_type": "markdown",
      "metadata": {
        "id": "PRHt2WgXMCTX"
      },
      "source": [
        "# imbalance learning"
      ]
    },
    {
      "cell_type": "code",
      "execution_count": null,
      "metadata": {
        "colab": {
          "background_save": true
        },
        "id": "DWBYN-M0O5FG"
      },
      "outputs": [],
      "source": [
        "target_count = df.y.value_counts()\n",
        "print('Class 0:', target_count[0])\n",
        "print('Class 1:', target_count[1])"
      ]
    },
    {
      "cell_type": "code",
      "execution_count": null,
      "metadata": {
        "colab": {
          "background_save": true
        },
        "id": "zK9EWNRYfLtC"
      },
      "outputs": [],
      "source": [
        "# Step 2: Visualize Class Distribution\n",
        "target_count.plot(kind='bar')\n",
        "plt.title(\"Class Distribution\")\n",
        "plt.xlabel(\"Class\")\n",
        "plt.ylabel(\"Count\")\n",
        "plt.show()"
      ]
    },
    {
      "cell_type": "code",
      "execution_count": null,
      "metadata": {
        "colab": {
          "background_save": true
        },
        "id": "RvaHE1OxfXxX"
      },
      "outputs": [],
      "source": [
        "# Balancing the data using SMOTEENN\n",
        "smt = SMOTEENN(sampling_strategy='all')\n",
        "x_train, y_train = smt.fit_resample(x_train, y_train)"
      ]
    },
    {
      "cell_type": "code",
      "execution_count": null,
      "metadata": {
        "colab": {
          "background_save": true
        },
        "id": "esYMdKcfS2qV"
      },
      "outputs": [],
      "source": [
        "# Checking whether it is balanced or not\n",
        "x = len(x_train)\n",
        "y = len(y_train)\n",
        "print(x)\n",
        "print(y)"
      ]
    },
    {
      "cell_type": "code",
      "execution_count": null,
      "metadata": {
        "colab": {
          "background_save": true
        },
        "id": "GSzfylbJRj5i"
      },
      "outputs": [],
      "source": [
        "\n",
        "# Create a bar plot\n",
        "categories = ['X_train', 'y_train']\n",
        "lengths = [x, y]\n",
        "\n",
        "plt.bar(categories, lengths)\n",
        "plt.ylabel('Number of Samples')\n",
        "plt.title('Length of X_train and y_train')\n",
        "\n",
        "plt.show()\n"
      ]
    },
    {
      "cell_type": "markdown",
      "metadata": {
        "id": "5d4PYswUUl0r"
      },
      "source": [
        "# SCALING the data ( use  scaled data if required ):"
      ]
    },
    {
      "cell_type": "code",
      "execution_count": null,
      "metadata": {
        "colab": {
          "background_save": true
        },
        "id": "Lm294vWXUemB"
      },
      "outputs": [],
      "source": [
        "scalar = StandardScaler()\n",
        "x_train_scaled = scalar.fit_transform(x_train)\n",
        "x_test_scaled = scalar.transform(x_test)"
      ]
    },
    {
      "cell_type": "markdown",
      "metadata": {
        "id": "q3GBmBdEVGZ8"
      },
      "source": [
        "# Modelling :"
      ]
    },
    {
      "cell_type": "code",
      "execution_count": null,
      "metadata": {
        "colab": {
          "background_save": true
        },
        "id": "IbraxonWVDxZ"
      },
      "outputs": [],
      "source": [
        "# logistic regression :\n",
        "Lr = LogisticRegression()\n",
        "Lr.fit(x_train,y_train)\n",
        "y_pred = Lr.predict(x_test)\n",
        "\n",
        "print(\"Training Accuracy :\",Lr.score(x_train,y_train)*100)\n",
        "print(\"Testing Accuracy :\",Lr.score(x_test,y_test)*100)\n",
        "print(\"accuracy Score :\", accuracy_score(y_test,y_pred)*100)\n",
        "print(\"F1 Score :\", f1_score(y_test,y_pred)*100)\n",
        "print(\"ROC AUC Score :\", roc_auc_score(y_test,y_pred)*100)"
      ]
    },
    {
      "cell_type": "code",
      "execution_count": null,
      "metadata": {
        "colab": {
          "background_save": true
        },
        "id": "BeIQOlVnQSTE"
      },
      "outputs": [],
      "source": [
        "lr_train = Lr.score(x_train,y_train)*100\n",
        "lr_test = Lr.score(x_test,y_test)*100\n",
        "lr_auroc = roc_auc_score(y_test,y_pred)*100\n",
        "lr_f1 = f1_score(y_test,y_pred)*100"
      ]
    },
    {
      "cell_type": "code",
      "execution_count": null,
      "metadata": {
        "colab": {
          "background_save": true
        },
        "id": "8pGJySqeVDvQ"
      },
      "outputs": [],
      "source": [
        "# decision tree :\n",
        "for depth in [1,2,3,4,5,6,7,8,9,10,20]:\n",
        "  dt = DecisionTreeClassifier(max_depth=depth) # will tell the DT to not grow past the given threhsold\n",
        "  # Fit dt to the training set\n",
        "  dt.fit(x_train, y_train) # the model is trained\n",
        "  y_predict = dt.predict(x_train)\n",
        "\n",
        "  trainAccuracy = accuracy_score(y_train, y_predict)\n",
        "\n",
        "  dt = DecisionTreeClassifier(max_depth=depth) # a fresh model which is not trained yet\n",
        "  valAccuracy = cross_val_score(dt, x_train, y_train, cv=10) # syntax : cross_val_Score(freshModel,fts, target, cv= 10/5)\n",
        "  print(\"Depth  : \", depth, \" Training Accuracy : \", trainAccuracy, \" Cross val score : \" ,np.mean(valAccuracy))"
      ]
    },
    {
      "cell_type": "code",
      "execution_count": null,
      "metadata": {
        "colab": {
          "background_save": true
        },
        "id": "ZuwHp2BCVDsA"
      },
      "outputs": [],
      "source": [
        "t = DecisionTreeClassifier(max_depth=20)\n",
        "t.fit(x_train,y_train)\n",
        "y_pred = t.predict(x_test)\n",
        "\n",
        "print(\"Training Accuracy :\",Lr.score(x_train,y_train)*100)\n",
        "print(\"Testing Accuracy :\",Lr.score(x_test,y_test)*100)\n",
        "print(\"accuracy Score :\", accuracy_score(y_test,y_pred)*100)\n",
        "print(\"F1 Score :\", f1_score(y_test,y_pred)*100)\n",
        "print(\"ROC AUC Score :\", roc_auc_score(y_test,y_pred)*100)"
      ]
    },
    {
      "cell_type": "code",
      "execution_count": null,
      "metadata": {
        "colab": {
          "background_save": true
        },
        "id": "aFaFqrCgQ8nI"
      },
      "outputs": [],
      "source": [
        "dt_train = Lr.score(x_train,y_train)*100\n",
        "dt_test = Lr.score(x_test,y_test)*100\n",
        "dt_auroc = roc_auc_score(y_test,y_pred)*100\n",
        "dt_f1 = f1_score(y_test,y_pred)*100"
      ]
    },
    {
      "cell_type": "markdown",
      "metadata": {
        "id": "6JrhryDGkxvi"
      },
      "source": [
        "# Feature importants :"
      ]
    },
    {
      "cell_type": "code",
      "execution_count": null,
      "metadata": {
        "colab": {
          "background_save": true
        },
        "id": "M8RFGHnSVDo1"
      },
      "outputs": [],
      "source": [
        "# feature importance:\n",
        "importance = t.feature_importances_\n",
        "\n",
        "dt = DecisionTreeClassifier(max_depth = 20)\n",
        "# Fit dt to the training set\n",
        "dt.fit(x_train, y_train)\n",
        "importance = dt.feature_importances_\n",
        "\n",
        "feature_importance = list(zip(x_test.columns, importance)) # it calculates the feature importances based on IG\n",
        "\n",
        "# Sort the list by importance in descending order\n",
        "feature_importance.sort(key=lambda x: x[1], reverse=True)\n",
        "\n",
        "# Print the sorted list\n",
        "for item in feature_importance:\n",
        "    print(item)\n"
      ]
    },
    {
      "cell_type": "markdown",
      "metadata": {
        "id": "XSqO4Ny7tPwZ"
      },
      "source": [
        "#K-Nearest Neighbour"
      ]
    },
    {
      "cell_type": "code",
      "execution_count": null,
      "metadata": {
        "colab": {
          "background_save": true
        },
        "id": "M3nRKvWb0jVF"
      },
      "outputs": [],
      "source": [
        "scalar = StandardScaler()\n",
        "x_train_scaled = scalar.fit_transform(x_train)\n",
        "x_test_scaled = scalar.transform(x_test)"
      ]
    },
    {
      "cell_type": "code",
      "execution_count": null,
      "metadata": {
        "colab": {
          "background_save": true,
          "base_uri": "https://localhost:8080/",
          "height": 249
        },
        "id": "FU4eDfM6VDf3",
        "outputId": "2cb71f02-b100-4ddb-cf6c-1ae8f668b86b"
      },
      "outputs": [
        {
          "name": "stdout",
          "output_type": "stream",
          "text": [
            "K value  :  1  train score :  1.0  cv score :  0.9482343748169377\n",
            "K value  :  2  train score :  0.9794956893263141  cv score :  0.9429511218351635\n",
            "K value  :  3  train score :  0.9724383916990921  cv score :  0.9476049023195696\n",
            "K value  :  4  train score :  0.966563668268864  cv score :  0.9433325719152579\n",
            "K value  :  5  train score :  0.9634927901121538  cv score :  0.9437520480242074\n",
            "K value  :  6  train score :  0.9600404364080263  cv score :  0.940624049667648\n",
            "K value  :  7  train score :  0.9581902800030518  cv score :  0.9418256081417544\n",
            "K value  :  8  train score :  0.955806057831693  cv score :  0.9397848063692488\n",
            "K value  :  9  train score :  0.9543945983062486  cv score :  0.9401471433759939\n",
            "K value  :  10  train score :  0.951667048142214  cv score :  0.9382588932551773\n",
            "K value  :  20  train score :  0.9430647745479515  cv score :  0.9339672278286347\n",
            "K value  :  30  train score :  0.9383535515373465  cv score :  0.9303813925916955\n",
            "K value  :  40  train score :  0.9347486076142519  cv score :  0.927959075245983\n",
            "K value  :  50  train score :  0.9315442130159457  cv score :  0.9256893168289718\n"
          ]
        }
      ],
      "source": [
        "#K-Nearest Neighbors :\n",
        "for i in [1,2,3,4,5,6,7,8,9,10,20,30,40,50]:\n",
        "  knn = KNeighborsClassifier(i)\n",
        "  knn.fit(x_train_scaled,y_train)\n",
        "  y_pred = knn.predict(x_test_scaled)\n",
        "\n",
        "  print(\"K value  : \" , i, \" train score : \", knn.score(x_train_scaled,y_train) , \" cv score : \", np.mean(cross_val_score(knn, x_train_scaled, y_train, cv=10))) #predicting using the model\n",
        "\n",
        "\n",
        "\n"
      ]
    },
    {
      "cell_type": "code",
      "execution_count": 116,
      "metadata": {
        "colab": {
          "base_uri": "https://localhost:8080/"
        },
        "id": "-9HF65SOtOxZ",
        "outputId": "7b7603e7-2153-4466-83e5-3f791492e813"
      },
      "outputs": [
        {
          "output_type": "stream",
          "name": "stdout",
          "text": [
            "Training Accuracy : 97.94956893263141\n",
            "Testing Accuracy : 86.21833867934963\n",
            "accuracy Score : 86.21833867934963\n",
            "F1 Score : 48.639736191261335\n",
            "ROC AUC Score : 72.66531012617577\n"
          ]
        }
      ],
      "source": [
        "knn = KNeighborsClassifier(2)\n",
        "knn.fit(x_train_scaled,y_train)\n",
        "y_pred = knn.predict(x_test_scaled)\n",
        "\n",
        "print(\"Training Accuracy :\",knn.score(x_train_scaled,y_train)*100)\n",
        "print(\"Testing Accuracy :\",knn.score(x_test_scaled,y_test)*100)\n",
        "print(\"accuracy Score :\", accuracy_score(y_test,y_pred)*100)\n",
        "print(\"F1 Score :\", f1_score(y_test,y_pred)*100)\n",
        "print(\"ROC AUC Score :\", roc_auc_score(y_test,y_pred)*100)"
      ]
    },
    {
      "cell_type": "code",
      "execution_count": 117,
      "metadata": {
        "id": "teuowjEoRJfa"
      },
      "outputs": [],
      "source": [
        "knn_train = Lr.score(x_train_scaled,y_train)*100\n",
        "knn_test = Lr.score(x_test_scaled,y_test)*100\n",
        "knn_auroc = roc_auc_score(y_test,y_pred)*100\n",
        "knn_f1 = f1_score(y_test,y_pred)*100"
      ]
    },
    {
      "cell_type": "markdown",
      "metadata": {
        "id": "pEXKSlfGzqpA"
      },
      "source": [
        "#XG - BOOST"
      ]
    },
    {
      "cell_type": "code",
      "execution_count": 118,
      "metadata": {
        "colab": {
          "base_uri": "https://localhost:8080/"
        },
        "id": "4dsRldoMtI6H",
        "outputId": "a8d3a316-8e9c-475e-bbff-62744a5cd47c"
      },
      "outputs": [
        {
          "output_type": "stream",
          "name": "stdout",
          "text": [
            "Learning rate  :  0.01  train score :  0.9263179980163272  cv score :  0.9230377699507848\n",
            "Learning rate  :  0.02  train score :  0.9340428778515297  cv score :  0.9288171696452814\n",
            "Learning rate  :  0.03  train score :  0.9415579461356527  cv score :  0.935321319761899\n",
            "Learning rate  :  0.04  train score :  0.9471274891279469  cv score :  0.9404712797055836\n",
            "Learning rate  :  0.05  train score :  0.954051270313573  cv score :  0.9458310031732868\n",
            "Learning rate  :  0.06  train score :  0.9573510337987335  cv score :  0.9490735271526802\n",
            "Learning rate  :  0.07  train score :  0.9594491493095293  cv score :  0.9514005520196147\n",
            "Learning rate  :  0.08  train score :  0.9620241092545968  cv score :  0.9530027245862527\n",
            "Learning rate  :  0.09  train score :  0.9640077821011673  cv score :  0.9545286522543494\n",
            "Learning rate  :  0.1  train score :  0.965228503852903  cv score :  0.9551580774511361\n",
            "Learning rate  :  0.11  train score :  0.965972381170367  cv score :  0.9561117299401692\n",
            "Learning rate  :  0.12  train score :  0.9676890211337453  cv score :  0.9566076728965414\n",
            "Learning rate  :  0.13  train score :  0.9682040131227588  cv score :  0.9568937868357826\n",
            "Learning rate  :  0.14  train score :  0.9693675135423819  cv score :  0.9577139534458947\n",
            "Learning rate  :  0.15  train score :  0.970683604180972  cv score :  0.9575995187857169\n",
            "Learning rate  :  0.2  train score :  0.9758907454032196  cv score :  0.9604796439037593\n",
            "Learning rate  :  0.5  train score :  0.9910353246356909  cv score :  0.9667358189036847\n",
            "Learning rate  :  0.7  train score :  0.9958991378652629  cv score :  0.966468803483768\n",
            "Learning rate  :  1  train score :  0.998817425803006  cv score :  0.9660872769950422\n"
          ]
        }
      ],
      "source": [
        "# xg - Boosting :\n",
        "for i in [0.01,0.02,0.03,0.04,0.05,0.06,0.07,0.08,0.09,0.1,0.11,0.12,0.13,0.14,0.15,0.2,0.5,0.7,1]:\n",
        "    model = xgb.XGBClassifier(learning_rate = i, n_estimators=100, verbosity = 0)\n",
        "    model.fit(x_train,y_train)\n",
        "    y_pred = model.predict(x_test)\n",
        "\n",
        "    print(\"Learning rate  : \" , i, \" train score : \", model.score(x_train,y_train) , \" cv score : \", np.mean(cross_val_score(model, x_train, y_train, cv=10)))"
      ]
    },
    {
      "cell_type": "code",
      "execution_count": 119,
      "metadata": {
        "colab": {
          "base_uri": "https://localhost:8080/"
        },
        "id": "eNh8wsjvtI86",
        "outputId": "0998d545-ff66-446b-a338-2bbc002e5468"
      },
      "outputs": [
        {
          "output_type": "stream",
          "name": "stdout",
          "text": [
            "Training Accuracy : 99.58991378652628\n",
            "Testing Accuracy : 86.27364229620618\n",
            "accuracy Score : 86.27364229620618\n",
            "F1 Score : 57.16258198136003\n",
            "ROC AUC Score : 82.27261208975354\n"
          ]
        }
      ],
      "source": [
        "xg = XGBClassifier(learning_rate = 0.7, n_estimators=100, verbosity = 0)\n",
        "xg.fit(x_train,y_train)\n",
        "y_pred = xg.predict(x_test)\n",
        "\n",
        "print(\"Training Accuracy :\",xg.score(x_train,y_train)*100)\n",
        "print(\"Testing Accuracy :\",xg.score(x_test,y_test)*100)\n",
        "print(\"accuracy Score :\", accuracy_score(y_test,y_pred)*100)\n",
        "print(\"F1 Score :\", f1_score(y_test,y_pred)*100)\n",
        "print(\"ROC AUC Score :\", roc_auc_score(y_test,y_pred)*100)"
      ]
    },
    {
      "cell_type": "code",
      "execution_count": 120,
      "metadata": {
        "id": "Q4DoCWXYtJAL"
      },
      "outputs": [],
      "source": [
        "xg_train = Lr.score(x_train,y_train)*100\n",
        "xg_test = Lr.score(x_test,y_test)*100\n",
        "xg_auroc = roc_auc_score(y_test,y_pred)*100\n",
        "xg_f1 = f1_score(y_test,y_pred)*100"
      ]
    },
    {
      "cell_type": "markdown",
      "metadata": {
        "id": "iSq48ZFFRjgH"
      },
      "source": [
        "# Random Forest :"
      ]
    },
    {
      "cell_type": "code",
      "execution_count": 121,
      "metadata": {
        "colab": {
          "base_uri": "https://localhost:8080/"
        },
        "id": "jtD15eERtJDc",
        "outputId": "6d4f1661-34a3-464f-f810-b741185b18d9"
      },
      "outputs": [
        {
          "output_type": "stream",
          "name": "stdout",
          "text": [
            "Depth:  1 Training Accuracy:  0.7492179751277943 Cross val score:  0.8450793439573839\n",
            "Depth:  2 Training Accuracy:  0.8663500419623102 Cross val score:  0.8862301028511276\n",
            "Depth:  3 Training Accuracy:  0.8841268024719615 Cross val score:  0.9008842369525605\n",
            "Depth:  4 Training Accuracy:  0.8931296253910125 Cross val score:  0.9116532436159555\n",
            "Depth:  5 Training Accuracy:  0.9093232623788815 Cross val score:  0.9191626169798239\n",
            "Depth:  6 Training Accuracy:  0.9137293049515526 Cross val score:  0.9256065940971692\n",
            "Depth:  7 Training Accuracy:  0.9249446860456245 Cross val score:  0.9357846627581864\n",
            "Depth:  8 Training Accuracy:  0.9349202716105898 Cross val score:  0.9401748438634767\n",
            "Depth:  9 Training Accuracy:  0.942549782558938 Cross val score:  0.9432105383427013\n",
            "Depth:  10 Training Accuracy:  0.9505416952773327 Cross val score:  0.9471180729448851\n"
          ]
        }
      ],
      "source": [
        "# Define a list of max_depth values to test\n",
        "max_depth_values = [1, 2, 3, 4, 5, 6, 7, 8, 9, 10]\n",
        "\n",
        "for depth in max_depth_values:\n",
        "    random = RandomForestClassifier(max_depth=depth, n_estimators=100, max_features=\"sqrt\")\n",
        "    random.fit(x_train, y_train)\n",
        "\n",
        "\n",
        "    valAccuracy = cross_val_score(random, x_train, y_train, cv=10, scoring='f1')\n",
        "\n",
        "    print(\"Depth: \", depth, \"Training Accuracy: \", random.score(x_train, y_train), \"Cross val score: \", np.mean(valAccuracy))\n"
      ]
    },
    {
      "cell_type": "code",
      "execution_count": 123,
      "metadata": {
        "colab": {
          "base_uri": "https://localhost:8080/"
        },
        "id": "UcvRp9CHtJGn",
        "outputId": "c09522e1-e8b8-4c28-c92b-566fecec232a"
      },
      "outputs": [
        {
          "output_type": "stream",
          "name": "stdout",
          "text": [
            "Training Accuracy : 95.0656137941558\n",
            "Testing Accuracy : 82.63466430704568\n",
            "accuracy Score : 82.63466430704568\n",
            "F1 Score : 53.301606186793585\n",
            "ROC AUC Score : 82.94356246606216\n"
          ]
        }
      ],
      "source": [
        "random = RandomForestClassifier(n_estimators= 100, max_depth = 10, max_features='sqrt')\n",
        "random.fit(x_train, y_train)\n",
        "predictions = random.predict(x_test)\n",
        "\n",
        "print(\"Training Accuracy :\",random.score(x_train,y_train)*100)\n",
        "print(\"Testing Accuracy :\",random.score(x_test,y_test)*100)\n",
        "print(\"accuracy Score :\", accuracy_score(y_test,predictions)*100)\n",
        "print(\"F1 Score :\", f1_score(y_test,predictions)*100)\n",
        "print(\"ROC AUC Score :\", roc_auc_score(y_test,predictions)*100)"
      ]
    },
    {
      "cell_type": "code",
      "execution_count": 125,
      "metadata": {
        "id": "1qd4a1flVCbg"
      },
      "outputs": [],
      "source": [
        "random_train = random.score(x_train,y_train)*100\n",
        "random_test = random.score(x_test,y_test)*100\n",
        "random_f1 = f1_score(y_test,predictions)*100\n",
        "random_auroc = roc_auc_score(y_test,predictions)*100"
      ]
    },
    {
      "cell_type": "markdown",
      "metadata": {
        "id": "Aw0NCSQOST7E"
      },
      "source": [
        "# conclusion :"
      ]
    },
    {
      "cell_type": "code",
      "execution_count": 127,
      "metadata": {
        "id": "I5hMfAcHSSu_"
      },
      "outputs": [],
      "source": [
        "# Creating a dataframe to analyse the best value of F1_Score\n",
        "models = {'Model_Classifier':['Logistic Regression','Decision Tree','K-Nearest Neighbour','XG-Boost','Random Forest'],\n",
        "          'Train_Accuracy':[lr_train,dt_train,knn_train,xg_train,random_train],\n",
        "          'Test_Accuracy': [lr_test,dt_test,knn_test,xg_test,random_test],\n",
        "          'roc_auc_score': [lr_auroc,dt_auroc,knn_auroc,xg_auroc,random_auroc],\n",
        "          'F1_Score':      [lr_f1,dt_f1,knn_f1,xg_f1,random_f1]}"
      ]
    },
    {
      "cell_type": "code",
      "execution_count": 133,
      "metadata": {
        "colab": {
          "base_uri": "https://localhost:8080/",
          "height": 206
        },
        "id": "pP8j-4wjSS8U",
        "outputId": "f2ddfc16-cc44-43ca-dd60-f32eaa0257fd"
      },
      "outputs": [
        {
          "output_type": "display_data",
          "data": {
            "text/plain": [
              "      Model_Classifier  Train_Accuracy  Test_Accuracy  roc_auc_score  \\\n",
              "0  Logistic Regression       87.983520      76.252627      77.712522   \n",
              "1        Decision Tree       87.983520      76.252627      78.046167   \n",
              "2  K-Nearest Neighbour       68.627451      75.721712      72.665310   \n",
              "3             XG-Boost       87.983520      76.252627      82.272612   \n",
              "4        Random Forest       95.065614      82.634664      82.943562   \n",
              "\n",
              "    F1_Score  \n",
              "0  44.363825  \n",
              "1  51.153324  \n",
              "2  48.639736  \n",
              "3  57.162582  \n",
              "4  53.301606  "
            ],
            "text/html": [
              "\n",
              "  <div id=\"df-5b4dab64-e763-4a3f-ab24-a10738aa6b88\" class=\"colab-df-container\">\n",
              "    <div>\n",
              "<style scoped>\n",
              "    .dataframe tbody tr th:only-of-type {\n",
              "        vertical-align: middle;\n",
              "    }\n",
              "\n",
              "    .dataframe tbody tr th {\n",
              "        vertical-align: top;\n",
              "    }\n",
              "\n",
              "    .dataframe thead th {\n",
              "        text-align: right;\n",
              "    }\n",
              "</style>\n",
              "<table border=\"1\" class=\"dataframe\">\n",
              "  <thead>\n",
              "    <tr style=\"text-align: right;\">\n",
              "      <th></th>\n",
              "      <th>Model_Classifier</th>\n",
              "      <th>Train_Accuracy</th>\n",
              "      <th>Test_Accuracy</th>\n",
              "      <th>roc_auc_score</th>\n",
              "      <th>F1_Score</th>\n",
              "    </tr>\n",
              "  </thead>\n",
              "  <tbody>\n",
              "    <tr>\n",
              "      <th>0</th>\n",
              "      <td>Logistic Regression</td>\n",
              "      <td>87.983520</td>\n",
              "      <td>76.252627</td>\n",
              "      <td>77.712522</td>\n",
              "      <td>44.363825</td>\n",
              "    </tr>\n",
              "    <tr>\n",
              "      <th>1</th>\n",
              "      <td>Decision Tree</td>\n",
              "      <td>87.983520</td>\n",
              "      <td>76.252627</td>\n",
              "      <td>78.046167</td>\n",
              "      <td>51.153324</td>\n",
              "    </tr>\n",
              "    <tr>\n",
              "      <th>2</th>\n",
              "      <td>K-Nearest Neighbour</td>\n",
              "      <td>68.627451</td>\n",
              "      <td>75.721712</td>\n",
              "      <td>72.665310</td>\n",
              "      <td>48.639736</td>\n",
              "    </tr>\n",
              "    <tr>\n",
              "      <th>3</th>\n",
              "      <td>XG-Boost</td>\n",
              "      <td>87.983520</td>\n",
              "      <td>76.252627</td>\n",
              "      <td>82.272612</td>\n",
              "      <td>57.162582</td>\n",
              "    </tr>\n",
              "    <tr>\n",
              "      <th>4</th>\n",
              "      <td>Random Forest</td>\n",
              "      <td>95.065614</td>\n",
              "      <td>82.634664</td>\n",
              "      <td>82.943562</td>\n",
              "      <td>53.301606</td>\n",
              "    </tr>\n",
              "  </tbody>\n",
              "</table>\n",
              "</div>\n",
              "    <div class=\"colab-df-buttons\">\n",
              "\n",
              "  <div class=\"colab-df-container\">\n",
              "    <button class=\"colab-df-convert\" onclick=\"convertToInteractive('df-5b4dab64-e763-4a3f-ab24-a10738aa6b88')\"\n",
              "            title=\"Convert this dataframe to an interactive table.\"\n",
              "            style=\"display:none;\">\n",
              "\n",
              "  <svg xmlns=\"http://www.w3.org/2000/svg\" height=\"24px\" viewBox=\"0 -960 960 960\">\n",
              "    <path d=\"M120-120v-720h720v720H120Zm60-500h600v-160H180v160Zm220 220h160v-160H400v160Zm0 220h160v-160H400v160ZM180-400h160v-160H180v160Zm440 0h160v-160H620v160ZM180-180h160v-160H180v160Zm440 0h160v-160H620v160Z\"/>\n",
              "  </svg>\n",
              "    </button>\n",
              "\n",
              "  <style>\n",
              "    .colab-df-container {\n",
              "      display:flex;\n",
              "      gap: 12px;\n",
              "    }\n",
              "\n",
              "    .colab-df-convert {\n",
              "      background-color: #E8F0FE;\n",
              "      border: none;\n",
              "      border-radius: 50%;\n",
              "      cursor: pointer;\n",
              "      display: none;\n",
              "      fill: #1967D2;\n",
              "      height: 32px;\n",
              "      padding: 0 0 0 0;\n",
              "      width: 32px;\n",
              "    }\n",
              "\n",
              "    .colab-df-convert:hover {\n",
              "      background-color: #E2EBFA;\n",
              "      box-shadow: 0px 1px 2px rgba(60, 64, 67, 0.3), 0px 1px 3px 1px rgba(60, 64, 67, 0.15);\n",
              "      fill: #174EA6;\n",
              "    }\n",
              "\n",
              "    .colab-df-buttons div {\n",
              "      margin-bottom: 4px;\n",
              "    }\n",
              "\n",
              "    [theme=dark] .colab-df-convert {\n",
              "      background-color: #3B4455;\n",
              "      fill: #D2E3FC;\n",
              "    }\n",
              "\n",
              "    [theme=dark] .colab-df-convert:hover {\n",
              "      background-color: #434B5C;\n",
              "      box-shadow: 0px 1px 3px 1px rgba(0, 0, 0, 0.15);\n",
              "      filter: drop-shadow(0px 1px 2px rgba(0, 0, 0, 0.3));\n",
              "      fill: #FFFFFF;\n",
              "    }\n",
              "  </style>\n",
              "\n",
              "    <script>\n",
              "      const buttonEl =\n",
              "        document.querySelector('#df-5b4dab64-e763-4a3f-ab24-a10738aa6b88 button.colab-df-convert');\n",
              "      buttonEl.style.display =\n",
              "        google.colab.kernel.accessAllowed ? 'block' : 'none';\n",
              "\n",
              "      async function convertToInteractive(key) {\n",
              "        const element = document.querySelector('#df-5b4dab64-e763-4a3f-ab24-a10738aa6b88');\n",
              "        const dataTable =\n",
              "          await google.colab.kernel.invokeFunction('convertToInteractive',\n",
              "                                                    [key], {});\n",
              "        if (!dataTable) return;\n",
              "\n",
              "        const docLinkHtml = 'Like what you see? Visit the ' +\n",
              "          '<a target=\"_blank\" href=https://colab.research.google.com/notebooks/data_table.ipynb>data table notebook</a>'\n",
              "          + ' to learn more about interactive tables.';\n",
              "        element.innerHTML = '';\n",
              "        dataTable['output_type'] = 'display_data';\n",
              "        await google.colab.output.renderOutput(dataTable, element);\n",
              "        const docLink = document.createElement('div');\n",
              "        docLink.innerHTML = docLinkHtml;\n",
              "        element.appendChild(docLink);\n",
              "      }\n",
              "    </script>\n",
              "  </div>\n",
              "\n",
              "\n",
              "<div id=\"df-90d7af35-8ba5-4be7-b254-83c4e4042374\">\n",
              "  <button class=\"colab-df-quickchart\" onclick=\"quickchart('df-90d7af35-8ba5-4be7-b254-83c4e4042374')\"\n",
              "            title=\"Suggest charts.\"\n",
              "            style=\"display:none;\">\n",
              "\n",
              "<svg xmlns=\"http://www.w3.org/2000/svg\" height=\"24px\"viewBox=\"0 0 24 24\"\n",
              "     width=\"24px\">\n",
              "    <g>\n",
              "        <path d=\"M19 3H5c-1.1 0-2 .9-2 2v14c0 1.1.9 2 2 2h14c1.1 0 2-.9 2-2V5c0-1.1-.9-2-2-2zM9 17H7v-7h2v7zm4 0h-2V7h2v10zm4 0h-2v-4h2v4z\"/>\n",
              "    </g>\n",
              "</svg>\n",
              "  </button>\n",
              "\n",
              "<style>\n",
              "  .colab-df-quickchart {\n",
              "      --bg-color: #E8F0FE;\n",
              "      --fill-color: #1967D2;\n",
              "      --hover-bg-color: #E2EBFA;\n",
              "      --hover-fill-color: #174EA6;\n",
              "      --disabled-fill-color: #AAA;\n",
              "      --disabled-bg-color: #DDD;\n",
              "  }\n",
              "\n",
              "  [theme=dark] .colab-df-quickchart {\n",
              "      --bg-color: #3B4455;\n",
              "      --fill-color: #D2E3FC;\n",
              "      --hover-bg-color: #434B5C;\n",
              "      --hover-fill-color: #FFFFFF;\n",
              "      --disabled-bg-color: #3B4455;\n",
              "      --disabled-fill-color: #666;\n",
              "  }\n",
              "\n",
              "  .colab-df-quickchart {\n",
              "    background-color: var(--bg-color);\n",
              "    border: none;\n",
              "    border-radius: 50%;\n",
              "    cursor: pointer;\n",
              "    display: none;\n",
              "    fill: var(--fill-color);\n",
              "    height: 32px;\n",
              "    padding: 0;\n",
              "    width: 32px;\n",
              "  }\n",
              "\n",
              "  .colab-df-quickchart:hover {\n",
              "    background-color: var(--hover-bg-color);\n",
              "    box-shadow: 0 1px 2px rgba(60, 64, 67, 0.3), 0 1px 3px 1px rgba(60, 64, 67, 0.15);\n",
              "    fill: var(--button-hover-fill-color);\n",
              "  }\n",
              "\n",
              "  .colab-df-quickchart-complete:disabled,\n",
              "  .colab-df-quickchart-complete:disabled:hover {\n",
              "    background-color: var(--disabled-bg-color);\n",
              "    fill: var(--disabled-fill-color);\n",
              "    box-shadow: none;\n",
              "  }\n",
              "\n",
              "  .colab-df-spinner {\n",
              "    border: 2px solid var(--fill-color);\n",
              "    border-color: transparent;\n",
              "    border-bottom-color: var(--fill-color);\n",
              "    animation:\n",
              "      spin 1s steps(1) infinite;\n",
              "  }\n",
              "\n",
              "  @keyframes spin {\n",
              "    0% {\n",
              "      border-color: transparent;\n",
              "      border-bottom-color: var(--fill-color);\n",
              "      border-left-color: var(--fill-color);\n",
              "    }\n",
              "    20% {\n",
              "      border-color: transparent;\n",
              "      border-left-color: var(--fill-color);\n",
              "      border-top-color: var(--fill-color);\n",
              "    }\n",
              "    30% {\n",
              "      border-color: transparent;\n",
              "      border-left-color: var(--fill-color);\n",
              "      border-top-color: var(--fill-color);\n",
              "      border-right-color: var(--fill-color);\n",
              "    }\n",
              "    40% {\n",
              "      border-color: transparent;\n",
              "      border-right-color: var(--fill-color);\n",
              "      border-top-color: var(--fill-color);\n",
              "    }\n",
              "    60% {\n",
              "      border-color: transparent;\n",
              "      border-right-color: var(--fill-color);\n",
              "    }\n",
              "    80% {\n",
              "      border-color: transparent;\n",
              "      border-right-color: var(--fill-color);\n",
              "      border-bottom-color: var(--fill-color);\n",
              "    }\n",
              "    90% {\n",
              "      border-color: transparent;\n",
              "      border-bottom-color: var(--fill-color);\n",
              "    }\n",
              "  }\n",
              "</style>\n",
              "\n",
              "  <script>\n",
              "    async function quickchart(key) {\n",
              "      const quickchartButtonEl =\n",
              "        document.querySelector('#' + key + ' button');\n",
              "      quickchartButtonEl.disabled = true;  // To prevent multiple clicks.\n",
              "      quickchartButtonEl.classList.add('colab-df-spinner');\n",
              "      try {\n",
              "        const charts = await google.colab.kernel.invokeFunction(\n",
              "            'suggestCharts', [key], {});\n",
              "      } catch (error) {\n",
              "        console.error('Error during call to suggestCharts:', error);\n",
              "      }\n",
              "      quickchartButtonEl.classList.remove('colab-df-spinner');\n",
              "      quickchartButtonEl.classList.add('colab-df-quickchart-complete');\n",
              "    }\n",
              "    (() => {\n",
              "      let quickchartButtonEl =\n",
              "        document.querySelector('#df-90d7af35-8ba5-4be7-b254-83c4e4042374 button');\n",
              "      quickchartButtonEl.style.display =\n",
              "        google.colab.kernel.accessAllowed ? 'block' : 'none';\n",
              "    })();\n",
              "  </script>\n",
              "</div>\n",
              "    </div>\n",
              "  </div>\n"
            ]
          },
          "metadata": {}
        }
      ],
      "source": [
        "# Assuming `models` is a list of models\n",
        "mdf = pd.DataFrame(models)\n",
        "\n",
        "# Displaying the styled dataframe\n",
        "display(mdf)"
      ]
    },
    {
      "cell_type": "code",
      "source": [],
      "metadata": {
        "id": "XGYaIMV7oJ78"
      },
      "execution_count": null,
      "outputs": []
    }
  ],
  "metadata": {
    "accelerator": "TPU",
    "colab": {
      "provenance": []
    },
    "kernelspec": {
      "display_name": "Python 3",
      "name": "python3"
    },
    "language_info": {
      "name": "python"
    }
  },
  "nbformat": 4,
  "nbformat_minor": 0
}